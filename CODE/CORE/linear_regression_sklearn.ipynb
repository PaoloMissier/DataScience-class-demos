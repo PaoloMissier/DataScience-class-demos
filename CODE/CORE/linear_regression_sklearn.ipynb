{
 "cells": [
  {
   "cell_type": "markdown",
   "metadata": {
    "id": "ZVvsM-Zkl_n6"
   },
   "source": [
    "# In this notebook:\n",
    "\n",
    "## Univariate regression\n",
    "\n",
    "### linear dataset with noise --> linear regression\n",
    "\n",
    "### quadratic dataset with noise --> polynomial regression\n",
    "\n",
    "## extension to multivariate regression:  >1 input features\n",
    "\n",
    "## Evaluating model performance:\n",
    "- standard metrics: RMSE, MSE, MAE, R^2 score\n",
    "- training/test set split and generalisation error\n",
    "\n",
    "## the overfitting problem: how to spot and deal with it"
   ]
  },
  {
   "cell_type": "code",
   "execution_count": 1,
   "metadata": {
    "id": "Ihjs-nf1l_oB"
   },
   "outputs": [],
   "source": [
    "import numpy as np\n",
    "import matplotlib.pyplot as plt\n",
    "\n",
    "from sklearn import linear_model\n",
    "from sklearn.metrics import mean_squared_error\n",
    "from sklearn.metrics import mean_absolute_error\n",
    "from sklearn.metrics import r2_score\n",
    "from sklearn.datasets import make_regression, make_sparse_uncorrelated"
   ]
  },
  {
   "cell_type": "markdown",
   "metadata": {
    "id": "XHwV08pcl_oC"
   },
   "source": [
    "### generating a univariate dataset for regression with a noise factor (0 mean, 1 variance)"
   ]
  },
  {
   "cell_type": "markdown",
   "metadata": {},
   "source": [
    "#### you may change these variables and see their effect:\n",
    "\n",
    "`rand_noise_mu`\n",
    "\n",
    "`rand_noise_std`"
   ]
  },
  {
   "cell_type": "code",
   "execution_count": 19,
   "metadata": {
    "id": "eA4AQYXdl_oC"
   },
   "outputs": [],
   "source": [
    "\n",
    "\n",
    "\n",
    "# 30 instances\n",
    "m = 30\n",
    "\n",
    "# coeff and intercept\n",
    "coeff_true = 2\n",
    "intercept_true = 0.5\n",
    "\n",
    "X = np.linspace(-1,1,m)\n",
    "\n",
    "rand_noise_mu = 0\n",
    "rand_noise_std = 1\n",
    "\n",
    "rand_noise = np.random.normal(rand_noise_mu, rand_noise_std, m)\n",
    "Y_true = intercept_true + coeff_true * X + rand_noise"
   ]
  },
  {
   "cell_type": "code",
   "execution_count": 20,
   "metadata": {
    "colab": {
     "base_uri": "https://localhost:8080/"
    },
    "id": "oEPkVIJLl_oC",
    "outputId": "05540dca-a3bf-43c3-ddca-d69f3c83d5e3"
   },
   "outputs": [
    {
     "name": "stdout",
     "output_type": "stream",
     "text": [
      "(30, 1)\n"
     ]
    }
   ],
   "source": [
    "X = np.reshape(X, (-1, 1))  \n",
    "print(X.shape)\n",
    "\n",
    "regr = linear_model.LinearRegression()\n",
    "regr.fit(X, Y_true)\n",
    "Y_pred = regr.predict(X)"
   ]
  },
  {
   "cell_type": "code",
   "execution_count": 21,
   "metadata": {
    "colab": {
     "base_uri": "https://localhost:8080/"
    },
    "id": "316gqTuHl_oD",
    "outputId": "4237febe-c07b-4e16-cd1f-40cae5b1c72f",
    "scrolled": true
   },
   "outputs": [
    {
     "name": "stdout",
     "output_type": "stream",
     "text": [
      "intercept: predicted 0.556166; true 0.500000\n",
      "coeff: predicted: 1.758849; true 2.000000\n"
     ]
    }
   ],
   "source": [
    "intercept = regr.intercept_\n",
    "coeff = regr.coef_\n",
    "print('intercept: predicted %f; true %f'% (intercept, intercept_true))\n",
    "print('coeff: predicted: %f; true %f' % (coeff, coeff_true))"
   ]
  },
  {
   "cell_type": "markdown",
   "metadata": {
    "id": "Pzpp8h8Nl_oD"
   },
   "source": [
    "### evaluating standard metrics for regression model performance:"
   ]
  },
  {
   "cell_type": "code",
   "execution_count": 22,
   "metadata": {
    "colab": {
     "base_uri": "https://localhost:8080/"
    },
    "id": "DuC8L4xUl_oE",
    "outputId": "769ec427-1985-4a28-b9a9-62072ea6d059",
    "scrolled": true
   },
   "outputs": [
    {
     "name": "stdout",
     "output_type": "stream",
     "text": [
      "mean squared error: 0.978976\n",
      "R^2 = 0.529627\n",
      "range of response variable Y: [-2.489160,2.971469]\n"
     ]
    }
   ],
   "source": [
    "print(\"mean squared error: %f\" % mean_squared_error(Y_true, Y_pred))\n",
    "print(\"R^2 = %f\" % regr.score(X, Y_true))\n",
    "print('range of response variable Y: [%f,%f]' % (Y_true.min(), Y_true.max()))\n",
    "\n"
   ]
  },
  {
   "cell_type": "markdown",
   "metadata": {
    "id": "Bw9IsS2dl_oE"
   },
   "source": [
    "### visual rendering of data and the linear fit"
   ]
  },
  {
   "cell_type": "code",
   "execution_count": 23,
   "metadata": {
    "colab": {
     "base_uri": "https://localhost:8080/",
     "height": 265
    },
    "id": "xhLApQVhl_oE",
    "outputId": "f67bb9b8-dc2b-4bfa-cb94-5f00185c9a75"
   },
   "outputs": [
    {
     "data": {
      "image/png": "[encoded data removed]",
      "text/plain": [
       "<Figure size 432x288 with 1 Axes>"
      ]
     },
     "metadata": {
      "needs_background": "light"
     },
     "output_type": "display_data"
    }
   ],
   "source": [
    "plt.scatter(X, Y_true)\n",
    "plt.plot(X, Y_pred)\n",
    "plt.show()"
   ]
  },
  {
   "cell_type": "code",
   "execution_count": null,
   "metadata": {
    "id": "fPaymwq8l_oF"
   },
   "outputs": [],
   "source": []
  },
  {
   "cell_type": "markdown",
   "metadata": {
    "id": "nxLqZIuKl_oF"
   },
   "source": [
    "## fitting a nonlinear univariate dataset to a linear model"
   ]
  },
  {
   "cell_type": "markdown",
   "metadata": {},
   "source": [
    "#### you may change these variables and see their effect:\n",
    "\n",
    "`a`, `b`"
   ]
  },
  {
   "cell_type": "code",
   "execution_count": 65,
   "metadata": {
    "id": "hsmosi-al_oF"
   },
   "outputs": [],
   "source": [
    "m= 100   ## range for random sampled from a standard normal distribution\n",
    "\n",
    "mu = 3\n",
    "stddev = 6\n",
    "X = stddev * np.random.rand(m,1) - mu   \n",
    "\n",
    "a = 1\n",
    "b = 2\n",
    "\n",
    "Y_true = a * X**2 + b * X + 2 + np.random.randn(m,1)\n",
    "X = np.reshape(X, (-1, 1))"
   ]
  },
  {
   "cell_type": "code",
   "execution_count": 66,
   "metadata": {
    "colab": {
     "base_uri": "https://localhost:8080/",
     "height": 282
    },
    "id": "COa3STEQl_oF",
    "outputId": "fd5c9944-bdc5-41ee-bddc-bec185927342",
    "scrolled": true
   },
   "outputs": [
    {
     "data": {
      "text/plain": [
       "<matplotlib.collections.PathCollection at 0x7fc390120160>"
      ]
     },
     "execution_count": 66,
     "metadata": {},
     "output_type": "execute_result"
    },
    {
     "data": {
      "image/png": "[encoded data removed]",
      "text/plain": [
       "<Figure size 432x288 with 1 Axes>"
      ]
     },
     "metadata": {
      "needs_background": "light"
     },
     "output_type": "display_data"
    }
   ],
   "source": [
    "plt.scatter(X, Y_true)"
   ]
  },
  {
   "cell_type": "code",
   "execution_count": 67,
   "metadata": {
    "colab": {
     "base_uri": "https://localhost:8080/"
    },
    "id": "w4d5pQV5l_oG",
    "outputId": "22fd98bd-6636-49b0-897a-8bf443857ceb"
   },
   "outputs": [
    {
     "name": "stdout",
     "output_type": "stream",
     "text": [
      "mean squared error: 9.208967\n",
      "R^2 = 0.660760\n",
      "range of response variable Y: [-0.933283,17.475623]\n"
     ]
    }
   ],
   "source": [
    "regr = linear_model.LinearRegression()\n",
    "regr.fit(X, Y_true)\n",
    "Y_pred = regr.predict(X)\n",
    "\n",
    "print(\"mean squared error: %f\" % mean_squared_error(Y_true, Y_pred))\n",
    "print(\"R^2 = %f\" % regr.score(X, Y_true))\n",
    "print('range of response variable Y: [%f,%f]' % (Y_true.min(), Y_true.max()))"
   ]
  },
  {
   "cell_type": "markdown",
   "metadata": {
    "id": "GUiJF6vwl_oG"
   },
   "source": [
    "the linear model does not seem to fit the data at all!"
   ]
  },
  {
   "cell_type": "code",
   "execution_count": 68,
   "metadata": {
    "colab": {
     "base_uri": "https://localhost:8080/",
     "height": 265
    },
    "id": "eFg2GtuSl_oG",
    "outputId": "0f8e7d93-cd47-47dd-8c34-24fee7d3180e"
   },
   "outputs": [
    {
     "data": {
      "image/png": "[encoded data removed]",
      "text/plain": [
       "<Figure size 432x288 with 1 Axes>"
      ]
     },
     "metadata": {
      "needs_background": "light"
     },
     "output_type": "display_data"
    }
   ],
   "source": [
    "plt.scatter(X, Y_true)\n",
    "plt.plot(X, Y_pred)\n",
    "plt.show()"
   ]
  },
  {
   "cell_type": "markdown",
   "metadata": {
    "id": "75a3J30Zl_oG"
   },
   "source": [
    "let use try a polynomial regression instead. \n",
    "\n",
    "we accomplish this in 2 steps:\n",
    "- transform the X features into X^2\n",
    "- fit a linear model to the transformed features"
   ]
  },
  {
   "cell_type": "code",
   "execution_count": 69,
   "metadata": {
    "id": "ZLPpnEWkl_oH"
   },
   "outputs": [],
   "source": [
    "from sklearn.preprocessing import PolynomialFeatures\n",
    "poly_features = PolynomialFeatures(degree=2, include_bias=False)\n",
    "X_poly = poly_features.fit_transform(X)"
   ]
  },
  {
   "cell_type": "code",
   "execution_count": 70,
   "metadata": {
    "colab": {
     "base_uri": "https://localhost:8080/"
    },
    "id": "V1XXT9Xzl_oH",
    "outputId": "7d80998b-b64f-411a-f1a5-3b261b5087bd"
   },
   "outputs": [
    {
     "name": "stdout",
     "output_type": "stream",
     "text": [
      "mean squared error: 0.984688\n",
      "R^2 = 0.963726\n",
      "range of response variable Y: [-0.933283,17.475623]\n"
     ]
    }
   ],
   "source": [
    "regr = linear_model.LinearRegression()\n",
    "regr.fit(X_poly, Y_true)\n",
    "Y_pred = regr.predict(X_poly)\n",
    "\n",
    "print(\"mean squared error: %f\" % mean_squared_error(Y_true, Y_pred))\n",
    "print(\"R^2 = %f\" % regr.score(X_poly, Y_true))\n",
    "print('range of response variable Y: [%f,%f]' % (Y_true.min(), Y_true.max()))"
   ]
  },
  {
   "cell_type": "code",
   "execution_count": 71,
   "metadata": {
    "colab": {
     "base_uri": "https://localhost:8080/",
     "height": 333
    },
    "id": "gh2ko1qTl_oH",
    "outputId": "808a56c1-8867-4fc6-aa22-97aa00e1cd9f"
   },
   "outputs": [
    {
     "name": "stdout",
     "output_type": "stream",
     "text": [
      "intercept: \n",
      " [1.95417799]\n",
      "coeff: \n",
      " [[2.03508446 1.02795487]]\n"
     ]
    },
    {
     "data": {
      "image/png": "[encoded data removed]",
      "text/plain": [
       "<Figure size 432x288 with 1 Axes>"
      ]
     },
     "metadata": {
      "needs_background": "light"
     },
     "output_type": "display_data"
    }
   ],
   "source": [
    "intercept = regr.intercept_\n",
    "coeff = regr.coef_\n",
    "print('intercept: \\n', intercept)\n",
    "print('coeff: \\n', coeff)\n",
    "\n",
    "plt.scatter(X, Y_true)\n",
    "plt.plot(X,Y_pred, \"bo\")\n",
    "plt.show()"
   ]
  },
  {
   "cell_type": "code",
   "execution_count": 62,
   "metadata": {
    "colab": {
     "base_uri": "https://localhost:8080/"
    },
    "id": "VrT16GRol_oI",
    "outputId": "3b56c8ee-6bef-41b2-ccab-06ce7b22d0e3",
    "scrolled": true
   },
   "outputs": [
    {
     "name": "stdout",
     "output_type": "stream",
     "text": [
      "mean squared error: 0.921326\n",
      "R^2 = 0.855365\n",
      "range of response variable Y: [0.301078,10.099642]\n"
     ]
    }
   ],
   "source": [
    "regr = linear_model.LinearRegression()\n",
    "regr.fit(X_poly, Y_true)\n",
    "Y_pred = regr.predict(X_poly)\n",
    "\n",
    "print(\"mean squared error: %f\" % mean_squared_error(Y_true, Y_pred))\n",
    "print(\"R^2 = %f\" % regr.score(X_poly, Y_true))\n",
    "print('range of response variable Y: [%f,%f]' % (Y_true.min(), Y_true.max()))"
   ]
  },
  {
   "cell_type": "code",
   "execution_count": 14,
   "metadata": {
    "id": "Rvse-aqUl_oI"
   },
   "outputs": [],
   "source": []
  },
  {
   "cell_type": "code",
   "execution_count": 14,
   "metadata": {
    "id": "u6O8YlwLl_oI"
   },
   "outputs": [],
   "source": []
  },
  {
   "cell_type": "code",
   "execution_count": 14,
   "metadata": {
    "id": "-_xqsh4Ol_oI"
   },
   "outputs": [],
   "source": []
  },
  {
   "cell_type": "markdown",
   "metadata": {
    "id": "Ij2oaKpLl_oI"
   },
   "source": [
    "## we can also generate a synthetic dataset using `sklearn.datasets.make_regression`\n",
    "\n",
    "this is convenient to illustrate _overfitting_\n",
    "\n",
    "here we can control the amount of noise. this is the standard deviation of the gaussian noise applied to the output.\n",
    "\n",
    "### note that we can extend to multivariate regression simply by changing the number of features\n",
    "\n",
    "reference on the generator: \n",
    "[make_regression](https://scikit-learn.org/stable/modules/generated/sklearn.datasets.make_regression.html#sklearn.datasets.make_regression)"
   ]
  },
  {
   "cell_type": "markdown",
   "metadata": {},
   "source": [
    "#### try changing:\n",
    "\n",
    "`n_features` (in relation to `n_samples`)\n",
    "\n",
    "`noise`"
   ]
  },
  {
   "cell_type": "code",
   "execution_count": 140,
   "metadata": {
    "id": "y9tcR0cil_oI"
   },
   "outputs": [],
   "source": [
    "n_features= 50\n",
    "\n",
    "## noise The standard deviation of the gaussian noise applied to the output.\n",
    "X, Y_true, coeff_true = make_regression(n_samples=100, n_features=n_features, n_informative = n_features, noise=2.0, random_state=1, coef=True)\n",
    "\n",
    "# Only the first 4 features are informative. The remaining features are useless.\n",
    "# X, Y_true = make_sparse_uncorrelated(n_samples=100, n_features=n_features, random_state=True)\n",
    "\n"
   ]
  },
  {
   "cell_type": "code",
   "execution_count": 141,
   "metadata": {
    "colab": {
     "base_uri": "https://localhost:8080/"
    },
    "id": "Q3eyxSJYl_oJ",
    "outputId": "9266d0dd-0885-4329-d2a2-d37be5b90928"
   },
   "outputs": [
    {
     "name": "stdout",
     "output_type": "stream",
     "text": [
      "mean squared error: 1.616582\n",
      "R^2 = 0.999990\n",
      "range of response variable Y: [-944.119088,1099.634535]\n"
     ]
    }
   ],
   "source": [
    "regr = linear_model.LinearRegression()\n",
    "regr.fit(X, Y_true)\n",
    "Y_pred = regr.predict(X)\n",
    "\n",
    "intercept = regr.intercept_\n",
    "coeff = regr.coef_\n",
    "\n",
    "if n_features == 1:\n",
    "    print('coeff: predicted: %f; true %f' % (coeff, coeff_true))\n",
    "\n",
    "print(\"mean squared error: %f\" % mean_squared_error(Y_true, Y_pred))\n",
    "print(\"R^2 = %f\" % regr.score(X, Y_true))\n",
    "print('range of response variable Y: [%f,%f]' % (Y_true.min(), Y_true.max()))\n"
   ]
  },
  {
   "cell_type": "code",
   "execution_count": 142,
   "metadata": {
    "id": "6QgwYR7vl_oJ",
    "scrolled": true
   },
   "outputs": [],
   "source": [
    "if n_features == 1:\n",
    "    plt.scatter(X, Y_true)\n",
    "    plt.plot(X, Y_pred)\n",
    "    plt.show()"
   ]
  },
  {
   "cell_type": "markdown",
   "metadata": {
    "id": "SORCzETQl_oK"
   },
   "source": [
    "## overfitting: \n",
    "\n",
    "### how do we know the model predicts accurately on unseen instances?"
   ]
  },
  {
   "cell_type": "code",
   "execution_count": 143,
   "metadata": {
    "id": "GY8efACJl_oK"
   },
   "outputs": [],
   "source": [
    "from sklearn.model_selection import train_test_split\n",
    "\n",
    "XTrain, XTest, YTrain, YTest = train_test_split(X, Y_true, test_size = 0.3, random_state = 10)"
   ]
  },
  {
   "cell_type": "code",
   "execution_count": 144,
   "metadata": {
    "id": "7Q46ygK8l_oK"
   },
   "outputs": [],
   "source": [
    "regr = linear_model.LinearRegression()\n",
    "regr.fit(XTrain, YTrain)\n",
    "intercept = regr.intercept_\n",
    "coeff = regr.coef_\n"
   ]
  },
  {
   "cell_type": "markdown",
   "metadata": {
    "id": "GLhLuuDQl_oK"
   },
   "source": [
    "### note that we are now predicting on the Test set not on the training set"
   ]
  },
  {
   "cell_type": "code",
   "execution_count": 145,
   "metadata": {
    "colab": {
     "base_uri": "https://localhost:8080/"
    },
    "id": "z9gCqy9Zl_oK",
    "outputId": "a3cec0ff-83b5-4dda-86de-51a512e9c42d"
   },
   "outputs": [
    {
     "name": "stdout",
     "output_type": "stream",
     "text": [
      "mean squared error: 11.104550\n",
      "R^2 = 0.999913\n",
      "range of response variable Y: [-944.119088,593.859598]\n"
     ]
    }
   ],
   "source": [
    "Y_pred = regr.predict(XTest)\n",
    "\n",
    "if n_features == 1:\n",
    "    print('coeff: predicted: %f; true %f' % (coeff, coeff_true))\n",
    "\n",
    "print(\"mean squared error: %f\" % mean_squared_error(YTest, Y_pred))\n",
    "print(\"R^2 = %f\" % regr.score(XTest, YTest))\n",
    "print('range of response variable Y: [%f,%f]' % (YTest.min(), YTest.max()))"
   ]
  },
  {
   "cell_type": "markdown",
   "metadata": {
    "id": "XrfINYp1l_oL"
   },
   "source": [
    "### why is this happening?\n",
    "\n",
    "- perhaps the dataset is not linear (see example above)\n",
    "- too few instances in the training set (go back and increase the size of the training set and observe the effect)\n",
    "- model learnt from many irrelevant variables"
   ]
  },
  {
   "cell_type": "markdown",
   "metadata": {
    "id": "r74Nlncfl_oL"
   },
   "source": [
    "## Mitigating overfitting through _regularisation_"
   ]
  },
  {
   "cell_type": "markdown",
   "metadata": {
    "id": "AeYCQ_lMl_oL"
   },
   "source": [
    "### 1. Ridge regression"
   ]
  },
  {
   "cell_type": "markdown",
   "metadata": {},
   "source": [
    "#### try changing alpha: 0.1, 0.01, 0.001..."
   ]
  },
  {
   "cell_type": "code",
   "execution_count": 167,
   "metadata": {
    "colab": {
     "base_uri": "https://localhost:8080/"
    },
    "id": "8SxS-SLAl_oL",
    "outputId": "1443395c-1757-4183-83de-1709a27ef29e"
   },
   "outputs": [
    {
     "data": {
      "text/plain": [
       "Ridge(alpha=0.1)"
      ]
     },
     "execution_count": 167,
     "metadata": {},
     "output_type": "execute_result"
    }
   ],
   "source": [
    "from sklearn.linear_model import Ridge\n",
    "\n",
    "regr = Ridge(alpha=0.1)\n",
    "regr.fit(XTrain, YTrain)"
   ]
  },
  {
   "cell_type": "code",
   "execution_count": 168,
   "metadata": {
    "colab": {
     "base_uri": "https://localhost:8080/"
    },
    "id": "K_cnpUE-l_oL",
    "outputId": "5d36a154-0f20-4994-f765-4a56d2851bad"
   },
   "outputs": [
    {
     "name": "stdout",
     "output_type": "stream",
     "text": [
      "mean squared error: 20.303135\n",
      "R^2 = 0.999841\n",
      "range of response variable Y: [-944.119088,593.859598]\n"
     ]
    }
   ],
   "source": [
    "Y_pred = regr.predict(XTest)\n",
    "\n",
    "if n_features == 1:\n",
    "    print('coeff: predicted: %f; true %f' % (coeff, coeff_true))\n",
    "\n",
    "print(\"mean squared error: %f\" % mean_squared_error(YTest, Y_pred))\n",
    "print(\"R^2 = %f\" % regr.score(XTest, YTest))\n",
    "print('range of response variable Y: [%f,%f]' % (YTest.min(), YTest.max()))"
   ]
  },
  {
   "cell_type": "markdown",
   "metadata": {
    "id": "sSLewX0bl_oM"
   },
   "source": [
    "### 2. Lasso regression"
   ]
  },
  {
   "cell_type": "code",
   "execution_count": 175,
   "metadata": {
    "colab": {
     "base_uri": "https://localhost:8080/"
    },
    "id": "_3zXNHBtl_oM",
    "outputId": "4ec8a7cb-1367-46db-bce6-f17167db2500"
   },
   "outputs": [
    {
     "data": {
      "text/plain": [
       "Lasso(alpha=0.1)"
      ]
     },
     "execution_count": 175,
     "metadata": {},
     "output_type": "execute_result"
    }
   ],
   "source": [
    "regr = linear_model.Lasso(alpha=0.1)\n",
    "regr.fit(XTrain, YTrain)"
   ]
  },
  {
   "cell_type": "code",
   "execution_count": 174,
   "metadata": {
    "colab": {
     "base_uri": "https://localhost:8080/"
    },
    "id": "5jJJ_765l_oM",
    "outputId": "97a3b614-3584-4d5e-f1f7-df2f731e5590"
   },
   "outputs": [
    {
     "name": "stdout",
     "output_type": "stream",
     "text": [
      "mean squared error: 12.946160\n",
      "R^2 = 0.999898\n",
      "range of response variable Y: [-944.119088,593.859598]\n"
     ]
    }
   ],
   "source": [
    "Y_pred = regr.predict(XTest)\n",
    "\n",
    "if n_features == 1:\n",
    "    print('coeff: predicted: %f; true %f' % (coeff, coeff_true))\n",
    "\n",
    "print(\"mean squared error: %f\" % mean_squared_error(YTest, Y_pred))\n",
    "print(\"R^2 = %f\" % regr.score(XTest, YTest))\n",
    "print('range of response variable Y: [%f,%f]' % (YTest.min(), YTest.max()))"
   ]
  },
  {
   "cell_type": "markdown",
   "metadata": {
    "id": "y4VVHbIVl_oM"
   },
   "source": [
    "### 3. ElasticNet"
   ]
  },
  {
   "cell_type": "code",
   "execution_count": 180,
   "metadata": {
    "colab": {
     "base_uri": "https://localhost:8080/"
    },
    "id": "CfyJ6oQCl_oM",
    "outputId": "8b45de5f-231d-40cc-ffd4-5ec386b32284"
   },
   "outputs": [
    {
     "data": {
      "text/plain": [
       "ElasticNet()"
      ]
     },
     "execution_count": 180,
     "metadata": {},
     "output_type": "execute_result"
    }
   ],
   "source": [
    "from sklearn.linear_model import ElasticNet\n",
    "\n",
    "regr = ElasticNet(alpha=1.0)\n",
    "regr.fit(XTrain, YTrain)\n"
   ]
  },
  {
   "cell_type": "code",
   "execution_count": 181,
   "metadata": {
    "colab": {
     "base_uri": "https://localhost:8080/"
    },
    "id": "GJjGtZVVl_oN",
    "outputId": "382350af-da82-4121-eeb1-fa07bbffcbc9"
   },
   "outputs": [
    {
     "name": "stdout",
     "output_type": "stream",
     "text": [
      "mean squared error: 28679.883412\n",
      "R^2 = 0.774773\n",
      "range of response variable Y: [-944.119088,593.859598]\n"
     ]
    }
   ],
   "source": [
    "Y_pred = regr.predict(XTest)\n",
    "\n",
    "if n_features == 1:\n",
    "    print('coeff: predicted: %f; true %f' % (coeff, coeff_true))\n",
    "\n",
    "print(\"mean squared error: %f\" % mean_squared_error(YTest, Y_pred))\n",
    "print(\"R^2 = %f\" % regr.score(XTest, YTest))\n",
    "print('range of response variable Y: [%f,%f]' % (YTest.min(), YTest.max()))"
   ]
  },
  {
   "cell_type": "code",
   "execution_count": 26,
   "metadata": {
    "id": "vutmgRRal_oN"
   },
   "outputs": [],
   "source": []
  }
 ],
 "metadata": {
  "colab": {
   "name": "linear_regression_sklearn.ipynb",
   "provenance": []
  },
  "kernelspec": {
   "display_name": "Python 3",
   "language": "python",
   "name": "python3"
  },
  "language_info": {
   "codemirror_mode": {
    "name": "ipython",
    "version": 3
   },
   "file_extension": ".py",
   "mimetype": "text/x-python",
   "name": "python",
   "nbconvert_exporter": "python",
   "pygments_lexer": "ipython3",
   "version": "3.8.3"
  }
 },
 "nbformat": 4,
 "nbformat_minor": 4
}
