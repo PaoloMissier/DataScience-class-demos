{
  "nbformat": 4,
  "nbformat_minor": 0,
  "metadata": {
    "kernelspec": {
      "display_name": "Python 3",
      "language": "python",
      "name": "python3"
    },
    "language_info": {
      "codemirror_mode": {
        "name": "ipython",
        "version": 3
      },
      "file_extension": ".py",
      "mimetype": "text/x-python",
      "name": "python",
      "nbconvert_exporter": "python",
      "pygments_lexer": "ipython3",
      "version": "3.8.3"
    },
    "colab": {
      "name": "linear_regression_sklearn.ipynb",
      "provenance": []
    }
  },
  "cells": [
    {
      "cell_type": "markdown",
      "metadata": {
        "id": "ZVvsM-Zkl_n6"
      },
      "source": [
        "# In this notebook:\n",
        "\n",
        "## Univariate regression\n",
        "\n",
        "### linear dataset with noise --> linear regression\n",
        "\n",
        "### quadratic dataset with noise --> polynomial regression\n",
        "\n",
        "## extension to multivariate regression:  >1 input features\n",
        "\n",
        "## Evaluating model performance:\n",
        "- standard metrics: RMSE, MSE, MAE, R^2 score\n",
        "- training/test set split and generalisation error\n",
        "\n",
        "## the overfitting problem: how to spot and deal with it"
      ]
    },
    {
      "cell_type": "code",
      "metadata": {
        "id": "Ihjs-nf1l_oB"
      },
      "source": [
        "import numpy as np\n",
        "import matplotlib.pyplot as plt\n",
        "\n",
        "from sklearn import linear_model\n",
        "from sklearn.metrics import mean_squared_error\n",
        "from sklearn.metrics import mean_absolute_error\n",
        "from sklearn.metrics import r2_score\n",
        "from sklearn.datasets import make_regression, make_sparse_uncorrelated"
      ],
      "execution_count": 28,
      "outputs": []
    },
    {
      "cell_type": "markdown",
      "metadata": {
        "id": "XHwV08pcl_oC"
      },
      "source": [
        "### generating a univariate dataset for regression with a noise factor (0 mean, 1 variance)"
      ]
    },
    {
      "cell_type": "code",
      "metadata": {
        "id": "eA4AQYXdl_oC"
      },
      "source": [
        "# 30 instances\n",
        "m = 30\n",
        "\n",
        "# coeff and intercept\n",
        "coeff_true = 2\n",
        "intercept_true = 0.5\n",
        "\n",
        "X = np.linspace(-1,1,m)\n",
        "\n",
        "rand_noise_mu = 0\n",
        "rand_noise_std = 0.1\n",
        "\n",
        "rand_noise = np.random.normal(rand_noise_mu, rand_noise_std, m)\n",
        "Y_true = intercept_true + coeff_true * X + rand_noise"
      ],
      "execution_count": 29,
      "outputs": []
    },
    {
      "cell_type": "code",
      "metadata": {
        "id": "oEPkVIJLl_oC",
        "outputId": "05540dca-a3bf-43c3-ddca-d69f3c83d5e3",
        "colab": {
          "base_uri": "https://localhost:8080/"
        }
      },
      "source": [
        "X = np.reshape(X, (-1, 1))  \n",
        "print(X.shape)\n",
        "\n",
        "regr = linear_model.LinearRegression()\n",
        "regr.fit(X, Y_true)\n",
        "Y_pred = regr.predict(X)"
      ],
      "execution_count": 30,
      "outputs": [
        {
          "output_type": "stream",
          "text": [
            "(30, 1)\n"
          ],
          "name": "stdout"
        }
      ]
    },
    {
      "cell_type": "code",
      "metadata": {
        "scrolled": true,
        "id": "316gqTuHl_oD",
        "outputId": "4237febe-c07b-4e16-cd1f-40cae5b1c72f",
        "colab": {
          "base_uri": "https://localhost:8080/"
        }
      },
      "source": [
        "intercept = regr.intercept_\n",
        "coeff = regr.coef_\n",
        "print('intercept: predicted %f; true %f'% (intercept, intercept_true))\n",
        "print('coeff: predicted: %f; true %f' % (coeff, coeff_true))"
      ],
      "execution_count": 31,
      "outputs": [
        {
          "output_type": "stream",
          "text": [
            "intercept: predicted 0.496159; true 0.500000\n",
            "coeff: predicted: 1.994887; true 2.000000\n"
          ],
          "name": "stdout"
        }
      ]
    },
    {
      "cell_type": "markdown",
      "metadata": {
        "id": "Pzpp8h8Nl_oD"
      },
      "source": [
        "### evaluating standard metrics for regression model performance:"
      ]
    },
    {
      "cell_type": "code",
      "metadata": {
        "scrolled": true,
        "id": "DuC8L4xUl_oE",
        "outputId": "769ec427-1985-4a28-b9a9-62072ea6d059",
        "colab": {
          "base_uri": "https://localhost:8080/"
        }
      },
      "source": [
        "print(\"mean squared error: %f\" % mean_squared_error(Y_true, Y_pred))\n",
        "print(\"R^2 = %f\" % regr.score(X, Y_true))\n",
        "print('range of response variable Y: [%f,%f]' % (Y_true.min(), Y_true.max()))\n",
        "\n"
      ],
      "execution_count": 32,
      "outputs": [
        {
          "output_type": "stream",
          "text": [
            "mean squared error: 0.007271\n",
            "R^2 = 0.994899\n",
            "range of response variable Y: [-1.466963,2.649452]\n"
          ],
          "name": "stdout"
        }
      ]
    },
    {
      "cell_type": "markdown",
      "metadata": {
        "id": "Bw9IsS2dl_oE"
      },
      "source": [
        "### visual rendering of data and the linear fit"
      ]
    },
    {
      "cell_type": "code",
      "metadata": {
        "id": "xhLApQVhl_oE",
        "outputId": "f67bb9b8-dc2b-4bfa-cb94-5f00185c9a75",
        "colab": {
          "base_uri": "https://localhost:8080/",
          "height": 265
        }
      },
      "source": [
        "plt.scatter(X, Y_true)\n",
        "plt.plot(X, Y_pred)\n",
        "plt.show()"
      ],
      "execution_count": 6,
      "outputs": [
        {
          "output_type": "display_data",
          "data": {
            "image/png": "[encoded data removed]",
            "text/plain": [
              "<Figure size 432x288 with 1 Axes>"
            ]
          },
          "metadata": {
            "tags": [],
            "needs_background": "light"
          }
        }
      ]
    },
    {
      "cell_type": "code",
      "metadata": {
        "id": "fPaymwq8l_oF"
      },
      "source": [
        ""
      ],
      "execution_count": 32,
      "outputs": []
    },
    {
      "cell_type": "markdown",
      "metadata": {
        "id": "nxLqZIuKl_oF"
      },
      "source": [
        "## fitting a nonlinear univariate dataset to a linear model"
      ]
    },
    {
      "cell_type": "code",
      "metadata": {
        "id": "hsmosi-al_oF"
      },
      "source": [
        "m= 100\n",
        "X = 6 * np.random.rand(m,1) - 3\n",
        "\n",
        "coeff1 = 0.5\n",
        "coeff2 = 1\n",
        "\n",
        "Y_true = coeff1 * X**2 + coeff2 * X + 2 + np.random.randn(m,1)\n",
        "X = np.reshape(X, (-1, 1))"
      ],
      "execution_count": 33,
      "outputs": []
    },
    {
      "cell_type": "code",
      "metadata": {
        "scrolled": true,
        "id": "COa3STEQl_oF",
        "outputId": "fd5c9944-bdc5-41ee-bddc-bec185927342",
        "colab": {
          "base_uri": "https://localhost:8080/",
          "height": 282
        }
      },
      "source": [
        "plt.scatter(X, Y_true)"
      ],
      "execution_count": 34,
      "outputs": [
        {
          "output_type": "execute_result",
          "data": {
            "text/plain": [
              "<matplotlib.collections.PathCollection at 0x7f67714633d0>"
            ]
          },
          "metadata": {
            "tags": []
          },
          "execution_count": 34
        },
        {
          "output_type": "display_data",
          "data": {
            "image/png": "[encoded data removed]",
            "text/plain": [
              "<Figure size 432x288 with 1 Axes>"
            ]
          },
          "metadata": {
            "tags": [],
            "needs_background": "light"
          }
        }
      ]
    },
    {
      "cell_type": "code",
      "metadata": {
        "id": "w4d5pQV5l_oG",
        "outputId": "22fd98bd-6636-49b0-897a-8bf443857ceb",
        "colab": {
          "base_uri": "https://localhost:8080/"
        }
      },
      "source": [
        "regr = linear_model.LinearRegression()\n",
        "regr.fit(X, Y_true)\n",
        "Y_pred = regr.predict(X)\n",
        "\n",
        "print(\"mean squared error: %f\" % mean_squared_error(Y_true, Y_pred))\n",
        "print(\"R^2 = %f\" % regr.score(X, Y_true))\n",
        "print('range of response variable Y: [%f,%f]' % (Y_true.min(), Y_true.max()))"
      ],
      "execution_count": 35,
      "outputs": [
        {
          "output_type": "stream",
          "text": [
            "mean squared error: 2.774909\n",
            "R^2 = 0.523624\n",
            "range of response variable Y: [-1.430508,10.419149]\n"
          ],
          "name": "stdout"
        }
      ]
    },
    {
      "cell_type": "markdown",
      "metadata": {
        "id": "GUiJF6vwl_oG"
      },
      "source": [
        "the linear model does not seem to fit the data at all!"
      ]
    },
    {
      "cell_type": "code",
      "metadata": {
        "id": "eFg2GtuSl_oG",
        "outputId": "0f8e7d93-cd47-47dd-8c34-24fee7d3180e",
        "colab": {
          "base_uri": "https://localhost:8080/",
          "height": 265
        }
      },
      "source": [
        "plt.scatter(X, Y_true)\n",
        "plt.plot(X, Y_pred)\n",
        "plt.show()"
      ],
      "execution_count": 10,
      "outputs": [
        {
          "output_type": "display_data",
          "data": {
            "image/png": "[encoded data removed]",
            "text/plain": [
              "<Figure size 432x288 with 1 Axes>"
            ]
          },
          "metadata": {
            "tags": [],
            "needs_background": "light"
          }
        }
      ]
    },
    {
      "cell_type": "markdown",
      "metadata": {
        "id": "75a3J30Zl_oG"
      },
      "source": [
        "let use try a polynomial regression instead. \n",
        "\n",
        "we accomplish this in 2 steps:\n",
        "- transform the X features into X^2\n",
        "- fit a linear model to the transformed features"
      ]
    },
    {
      "cell_type": "code",
      "metadata": {
        "id": "ZLPpnEWkl_oH"
      },
      "source": [
        "from sklearn.preprocessing import PolynomialFeatures\n",
        "poly_features = PolynomialFeatures(degree=2, include_bias=False)\n",
        "X_poly = poly_features.fit_transform(X)"
      ],
      "execution_count": 36,
      "outputs": []
    },
    {
      "cell_type": "code",
      "metadata": {
        "id": "V1XXT9Xzl_oH",
        "outputId": "7d80998b-b64f-411a-f1a5-3b261b5087bd",
        "colab": {
          "base_uri": "https://localhost:8080/"
        }
      },
      "source": [
        "regr = linear_model.LinearRegression()\n",
        "regr.fit(X_poly, Y_true)\n",
        "Y_pred = regr.predict(X_poly)\n",
        "\n",
        "print(\"mean squared error: %f\" % mean_squared_error(Y_true, Y_pred))\n",
        "print(\"R^2 = %f\" % regr.score(X_poly, Y_true))\n",
        "print('range of response variable Y: [%f,%f]' % (Y_true.min(), Y_true.max()))"
      ],
      "execution_count": 37,
      "outputs": [
        {
          "output_type": "stream",
          "text": [
            "mean squared error: 1.225597\n",
            "R^2 = 0.789599\n",
            "range of response variable Y: [-1.430508,10.419149]\n"
          ],
          "name": "stdout"
        }
      ]
    },
    {
      "cell_type": "code",
      "metadata": {
        "id": "gh2ko1qTl_oH",
        "outputId": "808a56c1-8867-4fc6-aa22-97aa00e1cd9f",
        "colab": {
          "base_uri": "https://localhost:8080/",
          "height": 333
        }
      },
      "source": [
        "intercept = regr.intercept_\n",
        "coeff = regr.coef_\n",
        "print('intercept: \\n', intercept)\n",
        "print('coeff: \\n', coeff)\n",
        "\n",
        "plt.scatter(X, Y_true)\n",
        "plt.plot(X,Y_pred, \"bo\")\n",
        "plt.show()"
      ],
      "execution_count": 38,
      "outputs": [
        {
          "output_type": "stream",
          "text": [
            "intercept: \n",
            " [1.98718766]\n",
            "coeff: \n",
            " [[1.02864191 0.45720943]]\n"
          ],
          "name": "stdout"
        },
        {
          "output_type": "display_data",
          "data": {
            "image/png": "[encoded data removed]",
            "text/plain": [
              "<Figure size 432x288 with 1 Axes>"
            ]
          },
          "metadata": {
            "tags": [],
            "needs_background": "light"
          }
        }
      ]
    },
    {
      "cell_type": "code",
      "metadata": {
        "scrolled": true,
        "id": "VrT16GRol_oI",
        "outputId": "3b56c8ee-6bef-41b2-ccab-06ce7b22d0e3",
        "colab": {
          "base_uri": "https://localhost:8080/"
        }
      },
      "source": [
        "regr = linear_model.LinearRegression()\n",
        "regr.fit(X_poly, Y_true)\n",
        "Y_pred = regr.predict(X_poly)\n",
        "\n",
        "print(\"mean squared error: %f\" % mean_squared_error(Y_true, Y_pred))\n",
        "print(\"R^2 = %f\" % regr.score(X_poly, Y_true))\n",
        "print('range of response variable Y: [%f,%f]' % (Y_true.min(), Y_true.max()))"
      ],
      "execution_count": 39,
      "outputs": [
        {
          "output_type": "stream",
          "text": [
            "mean squared error: 1.225597\n",
            "R^2 = 0.789599\n",
            "range of response variable Y: [-1.430508,10.419149]\n"
          ],
          "name": "stdout"
        }
      ]
    },
    {
      "cell_type": "code",
      "metadata": {
        "id": "Rvse-aqUl_oI"
      },
      "source": [
        ""
      ],
      "execution_count": 14,
      "outputs": []
    },
    {
      "cell_type": "code",
      "metadata": {
        "id": "u6O8YlwLl_oI"
      },
      "source": [
        ""
      ],
      "execution_count": 14,
      "outputs": []
    },
    {
      "cell_type": "code",
      "metadata": {
        "id": "-_xqsh4Ol_oI"
      },
      "source": [
        ""
      ],
      "execution_count": 14,
      "outputs": []
    },
    {
      "cell_type": "markdown",
      "metadata": {
        "id": "Ij2oaKpLl_oI"
      },
      "source": [
        "## we can also generate a synthetic dataset using `sklearn.datasets.make_regression`\n",
        "\n",
        "this is convenient to illustrate _overfitting_\n",
        "\n",
        "here we can control the amount of noise. this is the standard deviation of the gaussian noise applied to the output.\n",
        "\n",
        "### note that we can extend to multivariate regression simply by changing the number of features"
      ]
    },
    {
      "cell_type": "code",
      "metadata": {
        "id": "y9tcR0cil_oI"
      },
      "source": [
        "n_features= 10\n",
        "# X, Y_true, coeff_true = make_regression(n_samples=100, n_features=n_features, noise=15.0, random_state=1, coef=True)\n",
        "\n",
        "# Only the first 4 features are informative. The remaining features are useless.\n",
        "X, Y_true = make_sparse_uncorrelated(n_samples=100, n_features=100, random_state=True)\n",
        "\n"
      ],
      "execution_count": 41,
      "outputs": []
    },
    {
      "cell_type": "code",
      "metadata": {
        "id": "Q3eyxSJYl_oJ",
        "outputId": "9266d0dd-0885-4329-d2a2-d37be5b90928",
        "colab": {
          "base_uri": "https://localhost:8080/"
        }
      },
      "source": [
        "regr = linear_model.LinearRegression()\n",
        "regr.fit(X, Y_true)\n",
        "Y_pred = regr.predict(X)\n",
        "\n",
        "intercept = regr.intercept_\n",
        "coeff = regr.coef_\n",
        "\n",
        "if n_features == 1:\n",
        "    print('coeff: predicted: %f; true %f' % (coeff, coeff_true))\n",
        "\n",
        "print(\"mean squared error: %f\" % mean_squared_error(Y_true, Y_pred))\n",
        "print(\"R^2 = %f\" % regr.score(X, Y_true))\n",
        "print('range of response variable Y: [%f,%f]' % (Y_true.min(), Y_true.max()))\n"
      ],
      "execution_count": 42,
      "outputs": [
        {
          "output_type": "stream",
          "text": [
            "mean squared error: 0.000000\n",
            "R^2 = 1.000000\n",
            "range of response variable Y: [-8.021810,8.181055]\n"
          ],
          "name": "stdout"
        }
      ]
    },
    {
      "cell_type": "code",
      "metadata": {
        "scrolled": true,
        "id": "6QgwYR7vl_oJ"
      },
      "source": [
        "if n_features == 1:\n",
        "    plt.scatter(X, Y_true)\n",
        "    plt.plot(X, Y_pred)\n",
        "    plt.show()"
      ],
      "execution_count": 44,
      "outputs": []
    },
    {
      "cell_type": "markdown",
      "metadata": {
        "id": "SORCzETQl_oK"
      },
      "source": [
        "## overfitting: \n",
        "\n",
        "### how do we know the model predicts accurately on unseen instances?"
      ]
    },
    {
      "cell_type": "code",
      "metadata": {
        "id": "GY8efACJl_oK"
      },
      "source": [
        "from sklearn.model_selection import train_test_split\n",
        "\n",
        "XTrain, XTest, YTrain, YTest = train_test_split(X, Y_true, test_size = 0.3, random_state = 10)"
      ],
      "execution_count": 45,
      "outputs": []
    },
    {
      "cell_type": "code",
      "metadata": {
        "id": "7Q46ygK8l_oK"
      },
      "source": [
        "regr = linear_model.LinearRegression()\n",
        "regr.fit(XTrain, YTrain)\n",
        "intercept = regr.intercept_\n",
        "coeff = regr.coef_\n"
      ],
      "execution_count": 46,
      "outputs": []
    },
    {
      "cell_type": "markdown",
      "metadata": {
        "id": "GLhLuuDQl_oK"
      },
      "source": [
        "### note that we are now predicting on the Test set not on the training set"
      ]
    },
    {
      "cell_type": "code",
      "metadata": {
        "id": "z9gCqy9Zl_oK",
        "outputId": "a3cec0ff-83b5-4dda-86de-51a512e9c42d",
        "colab": {
          "base_uri": "https://localhost:8080/"
        }
      },
      "source": [
        "Y_pred = regr.predict(XTest)\n",
        "\n",
        "if n_features == 1:\n",
        "    print('coeff: predicted: %f; true %f' % (coeff, coeff_true))\n",
        "\n",
        "print(\"mean squared error: %f\" % mean_squared_error(YTest, Y_pred))\n",
        "print(\"R^2 = %f\" % regr.score(XTest, YTest))\n",
        "print('range of response variable Y: [%f,%f]' % (YTest.min(), YTest.max()))"
      ],
      "execution_count": 47,
      "outputs": [
        {
          "output_type": "stream",
          "text": [
            "mean squared error: 4.522716\n",
            "R^2 = 0.557104\n",
            "range of response variable Y: [-5.968151,6.317723]\n"
          ],
          "name": "stdout"
        }
      ]
    },
    {
      "cell_type": "markdown",
      "metadata": {
        "id": "XrfINYp1l_oL"
      },
      "source": [
        "### why is this happening?\n",
        "\n",
        "- perhaps the dataset is not linear (see example above)\n",
        "- too few instances in the training set (go back and increase the size of the training set and observe the effect)\n",
        "- model learnt from many irrelevant variables"
      ]
    },
    {
      "cell_type": "markdown",
      "metadata": {
        "id": "r74Nlncfl_oL"
      },
      "source": [
        "## Mitigating overfitting through _regularisation_"
      ]
    },
    {
      "cell_type": "markdown",
      "metadata": {
        "id": "AeYCQ_lMl_oL"
      },
      "source": [
        "### 1. Ridge regression"
      ]
    },
    {
      "cell_type": "code",
      "metadata": {
        "id": "8SxS-SLAl_oL",
        "outputId": "1443395c-1757-4183-83de-1709a27ef29e",
        "colab": {
          "base_uri": "https://localhost:8080/"
        }
      },
      "source": [
        "from sklearn.linear_model import Ridge\n",
        "\n",
        "regr = Ridge(alpha=0.5)\n",
        "regr.fit(XTrain, YTrain)"
      ],
      "execution_count": 48,
      "outputs": [
        {
          "output_type": "execute_result",
          "data": {
            "text/plain": [
              "Ridge(alpha=0.5, copy_X=True, fit_intercept=True, max_iter=None,\n",
              "      normalize=False, random_state=None, solver='auto', tol=0.001)"
            ]
          },
          "metadata": {
            "tags": []
          },
          "execution_count": 48
        }
      ]
    },
    {
      "cell_type": "code",
      "metadata": {
        "id": "K_cnpUE-l_oL",
        "outputId": "5d36a154-0f20-4994-f765-4a56d2851bad",
        "colab": {
          "base_uri": "https://localhost:8080/"
        }
      },
      "source": [
        "Y_pred = regr.predict(XTest)\n",
        "\n",
        "if n_features == 1:\n",
        "    print('coeff: predicted: %f; true %f' % (coeff, coeff_true))\n",
        "\n",
        "print(\"mean squared error: %f\" % mean_squared_error(YTest, Y_pred))\n",
        "print(\"R^2 = %f\" % regr.score(XTest, YTest))\n",
        "print('range of response variable Y: [%f,%f]' % (YTest.min(), YTest.max()))"
      ],
      "execution_count": 49,
      "outputs": [
        {
          "output_type": "stream",
          "text": [
            "mean squared error: 4.494295\n",
            "R^2 = 0.559887\n",
            "range of response variable Y: [-5.968151,6.317723]\n"
          ],
          "name": "stdout"
        }
      ]
    },
    {
      "cell_type": "markdown",
      "metadata": {
        "id": "sSLewX0bl_oM"
      },
      "source": [
        "### 2. Lasso regression"
      ]
    },
    {
      "cell_type": "code",
      "metadata": {
        "id": "_3zXNHBtl_oM",
        "outputId": "4ec8a7cb-1367-46db-bce6-f17167db2500",
        "colab": {
          "base_uri": "https://localhost:8080/"
        }
      },
      "source": [
        "regr = linear_model.Lasso(alpha=0.1)\n",
        "regr.fit(XTrain, YTrain)"
      ],
      "execution_count": 50,
      "outputs": [
        {
          "output_type": "execute_result",
          "data": {
            "text/plain": [
              "Lasso(alpha=0.1, copy_X=True, fit_intercept=True, max_iter=1000,\n",
              "      normalize=False, positive=False, precompute=False, random_state=None,\n",
              "      selection='cyclic', tol=0.0001, warm_start=False)"
            ]
          },
          "metadata": {
            "tags": []
          },
          "execution_count": 50
        }
      ]
    },
    {
      "cell_type": "code",
      "metadata": {
        "id": "5jJJ_765l_oM",
        "outputId": "97a3b614-3584-4d5e-f1f7-df2f731e5590",
        "colab": {
          "base_uri": "https://localhost:8080/"
        }
      },
      "source": [
        "Y_pred = regr.predict(XTest)\n",
        "\n",
        "if n_features == 1:\n",
        "    print('coeff: predicted: %f; true %f' % (coeff, coeff_true))\n",
        "\n",
        "print(\"mean squared error: %f\" % mean_squared_error(YTest, Y_pred))\n",
        "print(\"R^2 = %f\" % regr.score(XTest, YTest))\n",
        "print('range of response variable Y: [%f,%f]' % (YTest.min(), YTest.max()))"
      ],
      "execution_count": 51,
      "outputs": [
        {
          "output_type": "stream",
          "text": [
            "mean squared error: 0.598818\n",
            "R^2 = 0.941360\n",
            "range of response variable Y: [-5.968151,6.317723]\n"
          ],
          "name": "stdout"
        }
      ]
    },
    {
      "cell_type": "markdown",
      "metadata": {
        "id": "y4VVHbIVl_oM"
      },
      "source": [
        "### 3. ElasticNet"
      ]
    },
    {
      "cell_type": "code",
      "metadata": {
        "id": "CfyJ6oQCl_oM",
        "outputId": "8b45de5f-231d-40cc-ffd4-5ec386b32284",
        "colab": {
          "base_uri": "https://localhost:8080/"
        }
      },
      "source": [
        "from sklearn.linear_model import ElasticNet\n",
        "\n",
        "regr = ElasticNet(alpha=1.0)\n",
        "regr.fit(XTrain, YTrain)\n"
      ],
      "execution_count": 52,
      "outputs": [
        {
          "output_type": "execute_result",
          "data": {
            "text/plain": [
              "ElasticNet(alpha=1.0, copy_X=True, fit_intercept=True, l1_ratio=0.5,\n",
              "           max_iter=1000, normalize=False, positive=False, precompute=False,\n",
              "           random_state=None, selection='cyclic', tol=0.0001, warm_start=False)"
            ]
          },
          "metadata": {
            "tags": []
          },
          "execution_count": 52
        }
      ]
    },
    {
      "cell_type": "code",
      "metadata": {
        "id": "GJjGtZVVl_oN",
        "outputId": "382350af-da82-4121-eeb1-fa07bbffcbc9",
        "colab": {
          "base_uri": "https://localhost:8080/"
        }
      },
      "source": [
        "Y_pred = regr.predict(XTest)\n",
        "\n",
        "if n_features == 1:\n",
        "    print('coeff: predicted: %f; true %f' % (coeff, coeff_true))\n",
        "\n",
        "print(\"mean squared error: %f\" % mean_squared_error(YTest, Y_pred))\n",
        "print(\"R^2 = %f\" % regr.score(XTest, YTest))\n",
        "print('range of response variable Y: [%f,%f]' % (YTest.min(), YTest.max()))"
      ],
      "execution_count": 53,
      "outputs": [
        {
          "output_type": "stream",
          "text": [
            "mean squared error: 3.480659\n",
            "R^2 = 0.659150\n",
            "range of response variable Y: [-5.968151,6.317723]\n"
          ],
          "name": "stdout"
        }
      ]
    },
    {
      "cell_type": "code",
      "metadata": {
        "id": "vutmgRRal_oN"
      },
      "source": [
        ""
      ],
      "execution_count": 26,
      "outputs": []
    }
  ]
}