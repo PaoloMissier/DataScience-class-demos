{
  "nbformat": 4,
  "nbformat_minor": 0,
  "metadata": {
    "kernelspec": {
      "display_name": "Python 3",
      "language": "python",
      "name": "python3"
    },
    "language_info": {
      "codemirror_mode": {
        "name": "ipython",
        "version": 3
      },
      "file_extension": ".py",
      "mimetype": "text/x-python",
      "name": "python",
      "nbconvert_exporter": "python",
      "pygments_lexer": "ipython3",
      "version": "3.8.3"
    },
    "colab": {
      "name": "linear_regression_sklearn.ipynb",
      "provenance": []
    },
    "widgets": {
      "application/vnd.jupyter.widget-state+json": {
        "97a109ab358948d68e82dc290ecfdd98": {
          "model_module": "@jupyter-widgets/controls",
          "model_name": "HBoxModel",
          "state": {
            "_view_name": "HBoxView",
            "_dom_classes": [],
            "_model_name": "HBoxModel",
            "_view_module": "@jupyter-widgets/controls",
            "_model_module_version": "1.5.0",
            "_view_count": null,
            "_view_module_version": "1.5.0",
            "box_style": "",
            "layout": "IPY_MODEL_28cc4f0b254b4a13ad99793e4d173ee2",
            "_model_module": "@jupyter-widgets/controls",
            "children": [
              "IPY_MODEL_6350d5ca0d8e4d77bc72d0ab8655610f",
              "IPY_MODEL_e76f6d500ba441609ad547379e3a29f6"
            ]
          }
        },
        "28cc4f0b254b4a13ad99793e4d173ee2": {
          "model_module": "@jupyter-widgets/base",
          "model_name": "LayoutModel",
          "state": {
            "_view_name": "LayoutView",
            "grid_template_rows": null,
            "right": null,
            "justify_content": null,
            "_view_module": "@jupyter-widgets/base",
            "overflow": null,
            "_model_module_version": "1.2.0",
            "_view_count": null,
            "flex_flow": null,
            "width": null,
            "min_width": null,
            "border": null,
            "align_items": null,
            "bottom": null,
            "_model_module": "@jupyter-widgets/base",
            "top": null,
            "grid_column": null,
            "overflow_y": null,
            "overflow_x": null,
            "grid_auto_flow": null,
            "grid_area": null,
            "grid_template_columns": null,
            "flex": null,
            "_model_name": "LayoutModel",
            "justify_items": null,
            "grid_row": null,
            "max_height": null,
            "align_content": null,
            "visibility": null,
            "align_self": null,
            "height": null,
            "min_height": null,
            "padding": null,
            "grid_auto_rows": null,
            "grid_gap": null,
            "max_width": null,
            "order": null,
            "_view_module_version": "1.2.0",
            "grid_template_areas": null,
            "object_position": null,
            "object_fit": null,
            "grid_auto_columns": null,
            "margin": null,
            "display": null,
            "left": null
          }
        },
        "6350d5ca0d8e4d77bc72d0ab8655610f": {
          "model_module": "@jupyter-widgets/controls",
          "model_name": "FloatProgressModel",
          "state": {
            "_view_name": "ProgressView",
            "style": "IPY_MODEL_bf608d0158964ffabd48a41c63910f41",
            "_dom_classes": [],
            "description": "Optimization Progress:   0%",
            "_model_name": "FloatProgressModel",
            "bar_style": "danger",
            "max": 300,
            "_view_module": "@jupyter-widgets/controls",
            "_model_module_version": "1.5.0",
            "value": 1,
            "_view_count": null,
            "_view_module_version": "1.5.0",
            "orientation": "horizontal",
            "min": 0,
            "description_tooltip": null,
            "_model_module": "@jupyter-widgets/controls",
            "layout": "IPY_MODEL_57fd9e1111184ec5932bb704265dd476"
          }
        },
        "e76f6d500ba441609ad547379e3a29f6": {
          "model_module": "@jupyter-widgets/controls",
          "model_name": "HTMLModel",
          "state": {
            "_view_name": "HTMLView",
            "style": "IPY_MODEL_9dab8c1e8f1d4898a5ed05160ddce402",
            "_dom_classes": [],
            "description": "",
            "_model_name": "HTMLModel",
            "placeholder": "​",
            "_view_module": "@jupyter-widgets/controls",
            "_model_module_version": "1.5.0",
            "value": " 1/300 [00:00&lt;00:26, 11.30pipeline/s]",
            "_view_count": null,
            "_view_module_version": "1.5.0",
            "description_tooltip": null,
            "_model_module": "@jupyter-widgets/controls",
            "layout": "IPY_MODEL_099b941555ad4fef840f2c1c98042731"
          }
        },
        "bf608d0158964ffabd48a41c63910f41": {
          "model_module": "@jupyter-widgets/controls",
          "model_name": "ProgressStyleModel",
          "state": {
            "_view_name": "StyleView",
            "_model_name": "ProgressStyleModel",
            "description_width": "initial",
            "_view_module": "@jupyter-widgets/base",
            "_model_module_version": "1.5.0",
            "_view_count": null,
            "_view_module_version": "1.2.0",
            "bar_color": null,
            "_model_module": "@jupyter-widgets/controls"
          }
        },
        "57fd9e1111184ec5932bb704265dd476": {
          "model_module": "@jupyter-widgets/base",
          "model_name": "LayoutModel",
          "state": {
            "_view_name": "LayoutView",
            "grid_template_rows": null,
            "right": null,
            "justify_content": null,
            "_view_module": "@jupyter-widgets/base",
            "overflow": null,
            "_model_module_version": "1.2.0",
            "_view_count": null,
            "flex_flow": null,
            "width": null,
            "min_width": null,
            "border": null,
            "align_items": null,
            "bottom": null,
            "_model_module": "@jupyter-widgets/base",
            "top": null,
            "grid_column": null,
            "overflow_y": null,
            "overflow_x": null,
            "grid_auto_flow": null,
            "grid_area": null,
            "grid_template_columns": null,
            "flex": null,
            "_model_name": "LayoutModel",
            "justify_items": null,
            "grid_row": null,
            "max_height": null,
            "align_content": null,
            "visibility": null,
            "align_self": null,
            "height": null,
            "min_height": null,
            "padding": null,
            "grid_auto_rows": null,
            "grid_gap": null,
            "max_width": null,
            "order": null,
            "_view_module_version": "1.2.0",
            "grid_template_areas": null,
            "object_position": null,
            "object_fit": null,
            "grid_auto_columns": null,
            "margin": null,
            "display": null,
            "left": null
          }
        },
        "9dab8c1e8f1d4898a5ed05160ddce402": {
          "model_module": "@jupyter-widgets/controls",
          "model_name": "DescriptionStyleModel",
          "state": {
            "_view_name": "StyleView",
            "_model_name": "DescriptionStyleModel",
            "description_width": "",
            "_view_module": "@jupyter-widgets/base",
            "_model_module_version": "1.5.0",
            "_view_count": null,
            "_view_module_version": "1.2.0",
            "_model_module": "@jupyter-widgets/controls"
          }
        },
        "099b941555ad4fef840f2c1c98042731": {
          "model_module": "@jupyter-widgets/base",
          "model_name": "LayoutModel",
          "state": {
            "_view_name": "LayoutView",
            "grid_template_rows": null,
            "right": null,
            "justify_content": null,
            "_view_module": "@jupyter-widgets/base",
            "overflow": null,
            "_model_module_version": "1.2.0",
            "_view_count": null,
            "flex_flow": null,
            "width": null,
            "min_width": null,
            "border": null,
            "align_items": null,
            "bottom": null,
            "_model_module": "@jupyter-widgets/base",
            "top": null,
            "grid_column": null,
            "overflow_y": null,
            "overflow_x": null,
            "grid_auto_flow": null,
            "grid_area": null,
            "grid_template_columns": null,
            "flex": null,
            "_model_name": "LayoutModel",
            "justify_items": null,
            "grid_row": null,
            "max_height": null,
            "align_content": null,
            "visibility": null,
            "align_self": null,
            "height": null,
            "min_height": null,
            "padding": null,
            "grid_auto_rows": null,
            "grid_gap": null,
            "max_width": null,
            "order": null,
            "_view_module_version": "1.2.0",
            "grid_template_areas": null,
            "object_position": null,
            "object_fit": null,
            "grid_auto_columns": null,
            "margin": null,
            "display": null,
            "left": null
          }
        }
      }
    }
  },
  "cells": [
    {
      "cell_type": "markdown",
      "metadata": {
        "id": "UaeBwZhOn-Kx"
      },
      "source": [
        "# In this notebook:\n",
        "\n",
        "## Univariate regression\n",
        "\n",
        "### linear dataset with noise --> linear regression\n",
        "\n",
        "### quadratic dataset with noise --> polynomial regression\n",
        "\n",
        "## extension to multivariate regression:  >1 input features\n",
        "\n",
        "## Evaluating model performance:\n",
        "- standard metrics: RMSE, MSE, MAE, R^2 score\n",
        "- training/test set split and generalisation error\n",
        "\n",
        "## the overfitting problem: how to spot and deal with it"
      ]
    },
    {
      "cell_type": "code",
      "metadata": {
        "id": "P3jZyxC8n-K6"
      },
      "source": [
        "import numpy as np\n",
        "import matplotlib.pyplot as plt\n",
        "\n",
        "from sklearn import linear_model\n",
        "from sklearn.metrics import mean_squared_error\n",
        "from sklearn.metrics import mean_absolute_error\n",
        "from sklearn.metrics import r2_score\n",
        "from sklearn.datasets import make_regression, make_sparse_uncorrelated"
      ],
      "execution_count": 35,
      "outputs": []
    },
    {
      "cell_type": "markdown",
      "metadata": {
        "id": "AtfS4R9Mn-K7"
      },
      "source": [
        "### generating a univariate dataset for regression with a noise factor (0 mean, 1 variance)"
      ]
    },
    {
      "cell_type": "code",
      "metadata": {
        "id": "3oaLCu04n-K7"
      },
      "source": [
        "# 30 instances\n",
        "m = 30\n",
        "\n",
        "# coeff and intercept\n",
        "coeff_true = 2\n",
        "intercept_true = 0.5\n",
        "\n",
        "X = np.linspace(-1,1,m)\n",
        "\n",
        "rand_noise_mu = 0\n",
        "rand_noise_std = 0.1\n",
        "\n",
        "rand_noise = np.random.normal(rand_noise_mu, rand_noise_std, m)\n",
        "Y_true = intercept_true + coeff_true * X + rand_noise"
      ],
      "execution_count": 36,
      "outputs": []
    },
    {
      "cell_type": "code",
      "metadata": {
        "id": "5FBvwQvun-K7",
        "outputId": "e305c132-ee45-415f-d565-b6d06a58eaf1",
        "colab": {
          "base_uri": "https://localhost:8080/"
        }
      },
      "source": [
        "X = np.reshape(X, (-1, 1))  \n",
        "print(X.shape)\n",
        "\n",
        "regr = linear_model.LinearRegression()\n",
        "regr.fit(X, Y_true)\n",
        "Y_pred = regr.predict(X)"
      ],
      "execution_count": 37,
      "outputs": [
        {
          "output_type": "stream",
          "text": [
            "(30, 1)\n"
          ],
          "name": "stdout"
        }
      ]
    },
    {
      "cell_type": "code",
      "metadata": {
        "scrolled": true,
        "id": "tpNS8OMjn-K8",
        "outputId": "e17fc329-c102-433e-cc46-811a6e5b1860",
        "colab": {
          "base_uri": "https://localhost:8080/"
        }
      },
      "source": [
        "intercept = regr.intercept_\n",
        "coeff = regr.coef_\n",
        "print('intercept: predicted %f; true %f'% (intercept, intercept_true))\n",
        "print('coeff: predicted: %f; true %f' % (coeff, coeff_true))"
      ],
      "execution_count": 38,
      "outputs": [
        {
          "output_type": "stream",
          "text": [
            "intercept: predicted 0.475885; true 0.500000\n",
            "coeff: predicted: 2.008099; true 2.000000\n"
          ],
          "name": "stdout"
        }
      ]
    },
    {
      "cell_type": "markdown",
      "metadata": {
        "id": "YIWtiPRBn-K8"
      },
      "source": [
        "### evaluating standard metrics for regression model performance:"
      ]
    },
    {
      "cell_type": "code",
      "metadata": {
        "scrolled": true,
        "id": "KsFkDuxOn-K9",
        "outputId": "3695b2ae-add5-4cdc-b94c-a2bc3ec21eff",
        "colab": {
          "base_uri": "https://localhost:8080/"
        }
      },
      "source": [
        "print(\"mean squared error: %f\" % mean_squared_error(Y_true, Y_pred))\n",
        "print(\"R^2 = %f\" % regr.score(X, Y_true))\n",
        "print('range of response variable Y: [%f,%f]' % (Y_true.min(), Y_true.max()))\n",
        "\n"
      ],
      "execution_count": 39,
      "outputs": [
        {
          "output_type": "stream",
          "text": [
            "mean squared error: 0.009788\n",
            "R^2 = 0.993234\n",
            "range of response variable Y: [-1.416475,2.444753]\n"
          ],
          "name": "stdout"
        }
      ]
    },
    {
      "cell_type": "markdown",
      "metadata": {
        "id": "AgR7sYB7n-K9"
      },
      "source": [
        "### visual rendering of data and the linear fit"
      ]
    },
    {
      "cell_type": "code",
      "metadata": {
        "id": "itu9_JErn-K-",
        "outputId": "1b9dd3fb-c101-4ff3-dcbe-b8269bba1da1",
        "colab": {
          "base_uri": "https://localhost:8080/",
          "height": 265
        }
      },
      "source": [
        "plt.scatter(X, Y_true)\n",
        "plt.plot(X, Y_pred)\n",
        "plt.show()"
      ],
      "execution_count": 40,
      "outputs": [
        {
          "output_type": "display_data",
          "data": {
            "image/png": "[encoded data removed]",
            "text/plain": [
              "<Figure size 432x288 with 1 Axes>"
            ]
          },
          "metadata": {
            "tags": [],
            "needs_background": "light"
          }
        }
      ]
    },
    {
      "cell_type": "code",
      "metadata": {
        "id": "4xW4_-hTn-K-"
      },
      "source": [
        ""
      ],
      "execution_count": 40,
      "outputs": []
    },
    {
      "cell_type": "markdown",
      "metadata": {
        "id": "t5-dhhfFn-K_"
      },
      "source": [
        "## fitting a nonlinear univariate dataset to a linear model"
      ]
    },
    {
      "cell_type": "code",
      "metadata": {
        "id": "Rq0a8UP0n-K_"
      },
      "source": [
        "m= 100\n",
        "X = 6 * np.random.rand(m,1) - 3\n",
        "\n",
        "coeff1 = 0.5\n",
        "coeff2 = 1\n",
        "\n",
        "Y_true = coeff1 * X**2 + coeff2 * X + 2 + np.random.randn(m,1)\n",
        "X = np.reshape(X, (-1, 1))"
      ],
      "execution_count": 41,
      "outputs": []
    },
    {
      "cell_type": "code",
      "metadata": {
        "scrolled": true,
        "id": "FCMIBETvn-K_",
        "outputId": "e7654c72-5514-40f9-93ab-388d5ebae940",
        "colab": {
          "base_uri": "https://localhost:8080/",
          "height": 282
        }
      },
      "source": [
        "plt.scatter(X, Y_true)"
      ],
      "execution_count": 42,
      "outputs": [
        {
          "output_type": "execute_result",
          "data": {
            "text/plain": [
              "<matplotlib.collections.PathCollection at 0x7f1dac490590>"
            ]
          },
          "metadata": {
            "tags": []
          },
          "execution_count": 42
        },
        {
          "output_type": "display_data",
          "data": {
            "image/png": "[encoded data removed]",
            "text/plain": [
              "<Figure size 432x288 with 1 Axes>"
            ]
          },
          "metadata": {
            "tags": [],
            "needs_background": "light"
          }
        }
      ]
    },
    {
      "cell_type": "code",
      "metadata": {
        "id": "xtqrcwSQn-LA",
        "outputId": "c08eff67-71d8-4af4-ff46-1be6aeeea92e",
        "colab": {
          "base_uri": "https://localhost:8080/"
        }
      },
      "source": [
        "regr = linear_model.LinearRegression()\n",
        "regr.fit(X, Y_true)\n",
        "Y_pred = regr.predict(X)\n",
        "\n",
        "print(\"mean squared error: %f\" % mean_squared_error(Y_true, Y_pred))\n",
        "print(\"R^2 = %f\" % regr.score(X, Y_true))\n",
        "print('range of response variable Y: [%f,%f]' % (Y_true.min(), Y_true.max()))"
      ],
      "execution_count": 43,
      "outputs": [
        {
          "output_type": "stream",
          "text": [
            "mean squared error: 2.381819\n",
            "R^2 = 0.546313\n",
            "range of response variable Y: [-0.986449,9.953816]\n"
          ],
          "name": "stdout"
        }
      ]
    },
    {
      "cell_type": "markdown",
      "metadata": {
        "id": "7lNJKDbln-LA"
      },
      "source": [
        "the linear model does not seem to fit the data at all!"
      ]
    },
    {
      "cell_type": "code",
      "metadata": {
        "id": "lZm1Rkgqn-LA",
        "outputId": "cc2328ff-df16-48c7-9265-0d8cc75d9338",
        "colab": {
          "base_uri": "https://localhost:8080/",
          "height": 265
        }
      },
      "source": [
        "plt.scatter(X, Y_true)\n",
        "plt.plot(X, Y_pred)\n",
        "plt.show()"
      ],
      "execution_count": 44,
      "outputs": [
        {
          "output_type": "display_data",
          "data": {
            "image/png": "[encoded data removed]",
            "text/plain": [
              "<Figure size 432x288 with 1 Axes>"
            ]
          },
          "metadata": {
            "tags": [],
            "needs_background": "light"
          }
        }
      ]
    },
    {
      "cell_type": "markdown",
      "metadata": {
        "id": "Gpz_XZBcn-LB"
      },
      "source": [
        "let use try a polynomial regression instead. \n",
        "\n",
        "we accomplish this in 2 steps:\n",
        "- transform the X features into X^2\n",
        "- fit a linear model to the transformed features"
      ]
    },
    {
      "cell_type": "code",
      "metadata": {
        "id": "8ZhmfzMnn-LB"
      },
      "source": [
        "from sklearn.preprocessing import PolynomialFeatures\n",
        "poly_features = PolynomialFeatures(degree=2, include_bias=False)\n",
        "X_poly = poly_features.fit_transform(X)"
      ],
      "execution_count": 45,
      "outputs": []
    },
    {
      "cell_type": "code",
      "metadata": {
        "id": "NoFU6H_fn-LB",
        "outputId": "8be4d8b9-675a-4076-ce9a-1cbec0230cd5",
        "colab": {
          "base_uri": "https://localhost:8080/"
        }
      },
      "source": [
        "regr = linear_model.LinearRegression()\n",
        "regr.fit(X_poly, Y_true)\n",
        "Y_pred = regr.predict(X_poly)\n",
        "\n",
        "print(\"mean squared error: %f\" % mean_squared_error(Y_true, Y_pred))\n",
        "print(\"R^2 = %f\" % regr.score(X_poly, Y_true))\n",
        "print('range of response variable Y: [%f,%f]' % (Y_true.min(), Y_true.max()))"
      ],
      "execution_count": 46,
      "outputs": [
        {
          "output_type": "stream",
          "text": [
            "mean squared error: 0.880909\n",
            "R^2 = 0.832205\n",
            "range of response variable Y: [-0.986449,9.953816]\n"
          ],
          "name": "stdout"
        }
      ]
    },
    {
      "cell_type": "code",
      "metadata": {
        "id": "sZGA0S_An-LC",
        "outputId": "66139c8a-dfd7-4db5-ea93-e4ac62995ff9",
        "colab": {
          "base_uri": "https://localhost:8080/",
          "height": 333
        }
      },
      "source": [
        "intercept = regr.intercept_\n",
        "coeff = regr.coef_\n",
        "print('intercept: \\n', intercept)\n",
        "print('coeff: \\n', coeff)\n",
        "\n",
        "plt.scatter(X, Y_true)\n",
        "plt.plot(X,Y_pred, \"bo\")\n",
        "plt.show()"
      ],
      "execution_count": 47,
      "outputs": [
        {
          "output_type": "stream",
          "text": [
            "intercept: \n",
            " [2.16653571]\n",
            "coeff: \n",
            " [[1.00663785 0.48048063]]\n"
          ],
          "name": "stdout"
        },
        {
          "output_type": "display_data",
          "data": {
            "image/png": "[encoded data removed]",
            "text/plain": [
              "<Figure size 432x288 with 1 Axes>"
            ]
          },
          "metadata": {
            "tags": [],
            "needs_background": "light"
          }
        }
      ]
    },
    {
      "cell_type": "code",
      "metadata": {
        "scrolled": true,
        "id": "9inwT4kGn-LC",
        "outputId": "42d2a326-5f54-4fc2-a583-52542b485823",
        "colab": {
          "base_uri": "https://localhost:8080/"
        }
      },
      "source": [
        "regr = linear_model.LinearRegression()\n",
        "regr.fit(X_poly, Y_true)\n",
        "Y_pred = regr.predict(X_poly)\n",
        "\n",
        "print(\"mean squared error: %f\" % mean_squared_error(Y_true, Y_pred))\n",
        "print(\"R^2 = %f\" % regr.score(X_poly, Y_true))\n",
        "print('range of response variable Y: [%f,%f]' % (Y_true.min(), Y_true.max()))"
      ],
      "execution_count": 48,
      "outputs": [
        {
          "output_type": "stream",
          "text": [
            "mean squared error: 0.880909\n",
            "R^2 = 0.832205\n",
            "range of response variable Y: [-0.986449,9.953816]\n"
          ],
          "name": "stdout"
        }
      ]
    },
    {
      "cell_type": "code",
      "metadata": {
        "id": "ioeUAHk3n-LC"
      },
      "source": [
        ""
      ],
      "execution_count": 48,
      "outputs": []
    },
    {
      "cell_type": "code",
      "metadata": {
        "id": "aA5XoiwXn-LD"
      },
      "source": [
        ""
      ],
      "execution_count": 48,
      "outputs": []
    },
    {
      "cell_type": "code",
      "metadata": {
        "id": "KLdeqlvsn-LD"
      },
      "source": [
        ""
      ],
      "execution_count": 48,
      "outputs": []
    },
    {
      "cell_type": "markdown",
      "metadata": {
        "id": "rj3AuxzLn-LD"
      },
      "source": [
        "## we can also generate a synthetic dataset using `sklearn.datasets.make_regression`\n",
        "\n",
        "this is convenient to illustrate _overfitting_\n",
        "\n",
        "here we can control the amount of noise. this is the standard deviation of the gaussian noise applied to the output.\n",
        "\n",
        "### note that we can extend to multivariate regression simply by changing the number of features"
      ]
    },
    {
      "cell_type": "code",
      "metadata": {
        "id": "ci9k2-KWn-LD"
      },
      "source": [
        "n_features= 10\n",
        "# X, Y_true, coeff_true = make_regression(n_samples=100, n_features=n_features, noise=15.0, random_state=1, coef=True)\n",
        "\n",
        "# Only the first 4 features are informative. The remaining features are useless.\n",
        "X, Y_true = make_sparse_uncorrelated(n_samples=100, n_features=100, random_state=True)\n",
        "\n"
      ],
      "execution_count": 49,
      "outputs": []
    },
    {
      "cell_type": "code",
      "metadata": {
        "id": "rP8t6lQIn-LE",
        "outputId": "1035ebe1-c46d-4bdc-8183-048a3b2188ca",
        "colab": {
          "base_uri": "https://localhost:8080/"
        }
      },
      "source": [
        "regr = linear_model.LinearRegression()\n",
        "regr.fit(X, Y_true)\n",
        "Y_pred = regr.predict(X)\n",
        "\n",
        "intercept = regr.intercept_\n",
        "coeff = regr.coef_\n",
        "\n",
        "if n_features == 1:\n",
        "    print('coeff: predicted: %f; true %f' % (coeff, coeff_true))\n",
        "\n",
        "print(\"mean squared error: %f\" % mean_squared_error(Y_true, Y_pred))\n",
        "print(\"R^2 = %f\" % regr.score(X, Y_true))\n",
        "print('range of response variable Y: [%f,%f]' % (Y_true.min(), Y_true.max()))\n"
      ],
      "execution_count": 50,
      "outputs": [
        {
          "output_type": "stream",
          "text": [
            "mean squared error: 0.000000\n",
            "R^2 = 1.000000\n",
            "range of response variable Y: [-8.021810,8.181055]\n"
          ],
          "name": "stdout"
        }
      ]
    },
    {
      "cell_type": "code",
      "metadata": {
        "scrolled": true,
        "id": "B_V4gJp6n-LE"
      },
      "source": [
        "if n_features == 1:\n",
        "    plt.scatter(X, Y_true)\n",
        "    plt.plot(X, Y_pred)\n",
        "    plt.show()"
      ],
      "execution_count": 51,
      "outputs": []
    },
    {
      "cell_type": "markdown",
      "metadata": {
        "id": "s1q5A2T5n-LF"
      },
      "source": [
        "## overfitting: \n",
        "\n",
        "### how do we know the model predicts accurately on unseen instances?"
      ]
    },
    {
      "cell_type": "code",
      "metadata": {
        "id": "tH-EsXXSn-LF"
      },
      "source": [
        "from sklearn.model_selection import train_test_split\n",
        "\n",
        "XTrain, XTest, YTrain, YTest = train_test_split(X, Y_true, test_size = 0.3, random_state = 10)"
      ],
      "execution_count": 52,
      "outputs": []
    },
    {
      "cell_type": "code",
      "metadata": {
        "id": "CgQvWRFPn-LF"
      },
      "source": [
        "regr = linear_model.LinearRegression()\n",
        "regr.fit(XTrain, YTrain)\n",
        "intercept = regr.intercept_\n",
        "coeff = regr.coef_\n"
      ],
      "execution_count": 53,
      "outputs": []
    },
    {
      "cell_type": "markdown",
      "metadata": {
        "id": "pA9zrND8n-LF"
      },
      "source": [
        "### note that we are now predicting on the Test set not on the training set"
      ]
    },
    {
      "cell_type": "code",
      "metadata": {
        "id": "HREaq-ahn-LF",
        "outputId": "c5199bc2-5026-42fd-fc6a-7a14a27d08b0",
        "colab": {
          "base_uri": "https://localhost:8080/"
        }
      },
      "source": [
        "Y_pred = regr.predict(XTest)\n",
        "\n",
        "if n_features == 1:\n",
        "    print('coeff: predicted: %f; true %f' % (coeff, coeff_true))\n",
        "\n",
        "print(\"mean squared error: %f\" % mean_squared_error(YTest, Y_pred))\n",
        "print(\"R^2 = %f\" % regr.score(XTest, YTest))\n",
        "print('range of response variable Y: [%f,%f]' % (YTest.min(), YTest.max()))"
      ],
      "execution_count": 54,
      "outputs": [
        {
          "output_type": "stream",
          "text": [
            "mean squared error: 4.522716\n",
            "R^2 = 0.557104\n",
            "range of response variable Y: [-5.968151,6.317723]\n"
          ],
          "name": "stdout"
        }
      ]
    },
    {
      "cell_type": "markdown",
      "metadata": {
        "id": "fOVRI1YXn-LG"
      },
      "source": [
        "### why is this happening?\n",
        "\n",
        "- perhaps the dataset is not linear (see example above)\n",
        "- too few instances in the training set (go back and increase the size of the training set and observe the effect)\n",
        "- model learnt from many irrelevant variables"
      ]
    },
    {
      "cell_type": "markdown",
      "metadata": {
        "id": "h1a0Vp7Cn-LG"
      },
      "source": [
        "## Mitigating overfitting through _regularisation_"
      ]
    },
    {
      "cell_type": "markdown",
      "metadata": {
        "id": "qynjF_O_n-LG"
      },
      "source": [
        "### 1. Ridge regression"
      ]
    },
    {
      "cell_type": "code",
      "metadata": {
        "id": "Mnshf5bMn-LG",
        "outputId": "41008d49-5346-4af2-bd87-85d5133face0",
        "colab": {
          "base_uri": "https://localhost:8080/"
        }
      },
      "source": [
        "from sklearn.linear_model import Ridge\n",
        "\n",
        "regr = Ridge(alpha=0.5)\n",
        "regr.fit(XTrain, YTrain)"
      ],
      "execution_count": 55,
      "outputs": [
        {
          "output_type": "execute_result",
          "data": {
            "text/plain": [
              "Ridge(alpha=0.5, copy_X=True, fit_intercept=True, max_iter=None,\n",
              "      normalize=False, random_state=None, solver='auto', tol=0.001)"
            ]
          },
          "metadata": {
            "tags": []
          },
          "execution_count": 55
        }
      ]
    },
    {
      "cell_type": "code",
      "metadata": {
        "id": "ZrXe1iG2n-LH",
        "outputId": "8c67691c-7d78-4983-a5e1-c7853c85f229",
        "colab": {
          "base_uri": "https://localhost:8080/"
        }
      },
      "source": [
        "Y_pred = regr.predict(XTest)\n",
        "\n",
        "if n_features == 1:\n",
        "    print('coeff: predicted: %f; true %f' % (coeff, coeff_true))\n",
        "\n",
        "print(\"mean squared error: %f\" % mean_squared_error(YTest, Y_pred))\n",
        "print(\"R^2 = %f\" % regr.score(XTest, YTest))\n",
        "print('range of response variable Y: [%f,%f]' % (YTest.min(), YTest.max()))"
      ],
      "execution_count": 56,
      "outputs": [
        {
          "output_type": "stream",
          "text": [
            "mean squared error: 4.494295\n",
            "R^2 = 0.559887\n",
            "range of response variable Y: [-5.968151,6.317723]\n"
          ],
          "name": "stdout"
        }
      ]
    },
    {
      "cell_type": "markdown",
      "metadata": {
        "id": "95ZnhEXMn-LH"
      },
      "source": [
        "### 2. Lasso regression"
      ]
    },
    {
      "cell_type": "code",
      "metadata": {
        "id": "iX93LIfWn-LH",
        "outputId": "495a82b5-fb69-49ec-f326-e619de51c51a",
        "colab": {
          "base_uri": "https://localhost:8080/"
        }
      },
      "source": [
        "regr = linear_model.Lasso(alpha=0.1)\n",
        "regr.fit(XTrain, YTrain)"
      ],
      "execution_count": 57,
      "outputs": [
        {
          "output_type": "execute_result",
          "data": {
            "text/plain": [
              "Lasso(alpha=0.1, copy_X=True, fit_intercept=True, max_iter=1000,\n",
              "      normalize=False, positive=False, precompute=False, random_state=None,\n",
              "      selection='cyclic', tol=0.0001, warm_start=False)"
            ]
          },
          "metadata": {
            "tags": []
          },
          "execution_count": 57
        }
      ]
    },
    {
      "cell_type": "code",
      "metadata": {
        "id": "UEgmnt6kn-LH",
        "outputId": "66d8cf08-7992-40d0-b39a-e9050d1e7790",
        "colab": {
          "base_uri": "https://localhost:8080/"
        }
      },
      "source": [
        "Y_pred = regr.predict(XTest)\n",
        "\n",
        "if n_features == 1:\n",
        "    print('coeff: predicted: %f; true %f' % (coeff, coeff_true))\n",
        "\n",
        "print(\"mean squared error: %f\" % mean_squared_error(YTest, Y_pred))\n",
        "print(\"R^2 = %f\" % regr.score(XTest, YTest))\n",
        "print('range of response variable Y: [%f,%f]' % (YTest.min(), YTest.max()))"
      ],
      "execution_count": 58,
      "outputs": [
        {
          "output_type": "stream",
          "text": [
            "mean squared error: 0.598818\n",
            "R^2 = 0.941360\n",
            "range of response variable Y: [-5.968151,6.317723]\n"
          ],
          "name": "stdout"
        }
      ]
    },
    {
      "cell_type": "markdown",
      "metadata": {
        "id": "E5D_2s1-n-LI"
      },
      "source": [
        "### 3. ElasticNet"
      ]
    },
    {
      "cell_type": "code",
      "metadata": {
        "id": "s5NB5q8ToB1Z"
      },
      "source": [
        ""
      ],
      "execution_count": 58,
      "outputs": []
    },
    {
      "cell_type": "code",
      "metadata": {
        "id": "5ipNGjCgn-LI",
        "outputId": "93b9273b-5ee6-4719-875d-1497cda14480",
        "colab": {
          "base_uri": "https://localhost:8080/"
        }
      },
      "source": [
        "from sklearn.linear_model import ElasticNet\n",
        "\n",
        "regr = ElasticNet(alpha=1.0)\n",
        "regr.fit(XTrain, YTrain)\n"
      ],
      "execution_count": 59,
      "outputs": [
        {
          "output_type": "execute_result",
          "data": {
            "text/plain": [
              "ElasticNet(alpha=1.0, copy_X=True, fit_intercept=True, l1_ratio=0.5,\n",
              "           max_iter=1000, normalize=False, positive=False, precompute=False,\n",
              "           random_state=None, selection='cyclic', tol=0.0001, warm_start=False)"
            ]
          },
          "metadata": {
            "tags": []
          },
          "execution_count": 59
        }
      ]
    },
    {
      "cell_type": "code",
      "metadata": {
        "id": "yvlrESSbn-LI",
        "outputId": "8bb08c5d-eeba-4169-d4f3-83e57af641dc",
        "colab": {
          "base_uri": "https://localhost:8080/"
        }
      },
      "source": [
        "Y_pred = regr.predict(XTest)\n",
        "\n",
        "if n_features == 1:\n",
        "    print('coeff: predicted: %f; true %f' % (coeff, coeff_true))\n",
        "\n",
        "print(\"mean squared error: %f\" % mean_squared_error(YTest, Y_pred))\n",
        "print(\"R^2 = %f\" % regr.score(XTest, YTest))\n",
        "print('range of response variable Y: [%f,%f]' % (YTest.min(), YTest.max()))"
      ],
      "execution_count": 60,
      "outputs": [
        {
          "output_type": "stream",
          "text": [
            "mean squared error: 3.480659\n",
            "R^2 = 0.659150\n",
            "range of response variable Y: [-5.968151,6.317723]\n"
          ],
          "name": "stdout"
        }
      ]
    },
    {
      "cell_type": "code",
      "metadata": {
        "id": "hV3QKHwfn-LJ"
      },
      "source": [
        ""
      ],
      "execution_count": 60,
      "outputs": []
    },
    {
      "cell_type": "code",
      "metadata": {
        "id": "NkiYH5LBoDXi",
        "outputId": "7fbc0b48-c391-4ecf-b815-500939534544",
        "colab": {
          "base_uri": "https://localhost:8080/"
        }
      },
      "source": [
        "!pip install tpot"
      ],
      "execution_count": 61,
      "outputs": [
        {
          "output_type": "stream",
          "text": [
            "Requirement already satisfied: tpot in /usr/local/lib/python3.7/dist-packages (0.11.7)\n",
            "Requirement already satisfied: scipy>=1.3.1 in /usr/local/lib/python3.7/dist-packages (from tpot) (1.4.1)\n",
            "Requirement already satisfied: xgboost>=1.1.0 in /usr/local/lib/python3.7/dist-packages (from tpot) (1.4.0)\n",
            "Requirement already satisfied: numpy>=1.16.3 in /usr/local/lib/python3.7/dist-packages (from tpot) (1.19.5)\n",
            "Requirement already satisfied: tqdm>=4.36.1 in /usr/local/lib/python3.7/dist-packages (from tpot) (4.41.1)\n",
            "Requirement already satisfied: deap>=1.2 in /usr/local/lib/python3.7/dist-packages (from tpot) (1.3.1)\n",
            "Requirement already satisfied: stopit>=1.1.1 in /usr/local/lib/python3.7/dist-packages (from tpot) (1.1.2)\n",
            "Requirement already satisfied: pandas>=0.24.2 in /usr/local/lib/python3.7/dist-packages (from tpot) (1.1.5)\n",
            "Requirement already satisfied: scikit-learn>=0.22.0 in /usr/local/lib/python3.7/dist-packages (from tpot) (0.22.2.post1)\n",
            "Requirement already satisfied: joblib>=0.13.2 in /usr/local/lib/python3.7/dist-packages (from tpot) (1.0.1)\n",
            "Requirement already satisfied: update-checker>=0.16 in /usr/local/lib/python3.7/dist-packages (from tpot) (0.18.0)\n",
            "Requirement already satisfied: python-dateutil>=2.7.3 in /usr/local/lib/python3.7/dist-packages (from pandas>=0.24.2->tpot) (2.8.1)\n",
            "Requirement already satisfied: pytz>=2017.2 in /usr/local/lib/python3.7/dist-packages (from pandas>=0.24.2->tpot) (2018.9)\n",
            "Requirement already satisfied: requests>=2.3.0 in /usr/local/lib/python3.7/dist-packages (from update-checker>=0.16->tpot) (2.23.0)\n",
            "Requirement already satisfied: six>=1.5 in /usr/local/lib/python3.7/dist-packages (from python-dateutil>=2.7.3->pandas>=0.24.2->tpot) (1.15.0)\n",
            "Requirement already satisfied: certifi>=2017.4.17 in /usr/local/lib/python3.7/dist-packages (from requests>=2.3.0->update-checker>=0.16->tpot) (2020.12.5)\n",
            "Requirement already satisfied: urllib3!=1.25.0,!=1.25.1,<1.26,>=1.21.1 in /usr/local/lib/python3.7/dist-packages (from requests>=2.3.0->update-checker>=0.16->tpot) (1.24.3)\n",
            "Requirement already satisfied: idna<3,>=2.5 in /usr/local/lib/python3.7/dist-packages (from requests>=2.3.0->update-checker>=0.16->tpot) (2.10)\n",
            "Requirement already satisfied: chardet<4,>=3.0.2 in /usr/local/lib/python3.7/dist-packages (from requests>=2.3.0->update-checker>=0.16->tpot) (3.0.4)\n"
          ],
          "name": "stdout"
        }
      ]
    },
    {
      "cell_type": "code",
      "metadata": {
        "id": "IGDONQQJoDc4",
        "outputId": "0de7eb97-fe52-412c-b11a-77451b6c005a",
        "colab": {
          "base_uri": "https://localhost:8080/",
          "height": 1000,
          "referenced_widgets": [
            "97a109ab358948d68e82dc290ecfdd98",
            "28cc4f0b254b4a13ad99793e4d173ee2",
            "6350d5ca0d8e4d77bc72d0ab8655610f",
            "e76f6d500ba441609ad547379e3a29f6",
            "bf608d0158964ffabd48a41c63910f41",
            "57fd9e1111184ec5932bb704265dd476",
            "9dab8c1e8f1d4898a5ed05160ddce402",
            "099b941555ad4fef840f2c1c98042731"
          ]
        }
      },
      "source": [
        "\n",
        "from tpot import TPOTRegressor\n",
        "from sklearn.model_selection import RepeatedStratifiedKFold\n",
        "\n",
        "# define evaluation procedure\n",
        "cv = RepeatedStratifiedKFold(n_splits=10, n_repeats=3, random_state=1)\n",
        "\n",
        "X_train, X_test, y_train, y_test = train_test_split(X, Y_true, train_size=0.75, test_size=0.25)\n",
        "\n",
        "model = TPOTRegressor(generations=5, population_size=50, verbosity=2, scoring='neg_mean_absolute_error', cv=cv)\n",
        "model.fit(X_train, y_train)\n",
        "print(model.score(X_test, y_test))\n",
        "\n",
        "model.export('tpot_exported_pipeline_synthetic-data-regression-example.py')\n"
      ],
      "execution_count": 64,
      "outputs": [
        {
          "output_type": "display_data",
          "data": {
            "application/vnd.jupyter.widget-view+json": {
              "model_id": "97a109ab358948d68e82dc290ecfdd98",
              "version_minor": 0,
              "version_major": 2
            },
            "text/plain": [
              "HBox(children=(FloatProgress(value=0.0, description='Optimization Progress', max=300.0, style=ProgressStyle(de…"
            ]
          },
          "metadata": {
            "tags": []
          }
        },
        {
          "output_type": "stream",
          "text": [
            "\r"
          ],
          "name": "stdout"
        },
        {
          "output_type": "error",
          "ename": "RuntimeError",
          "evalue": "ignored",
          "traceback": [
            "\u001b[0;31m---------------------------------------------------------------------------\u001b[0m",
            "\u001b[0;31mValueError\u001b[0m                                Traceback (most recent call last)",
            "\u001b[0;32m/usr/local/lib/python3.7/dist-packages/tpot/base.py\u001b[0m in \u001b[0;36mfit\u001b[0;34m(self, features, target, sample_weight, groups)\u001b[0m\n\u001b[1;32m    827\u001b[0m                     \u001b[0mper_generation_function\u001b[0m\u001b[0;34m=\u001b[0m\u001b[0mself\u001b[0m\u001b[0;34m.\u001b[0m\u001b[0m_check_periodic_pipeline\u001b[0m\u001b[0;34m,\u001b[0m\u001b[0;34m\u001b[0m\u001b[0;34m\u001b[0m\u001b[0m\n\u001b[0;32m--> 828\u001b[0;31m                     \u001b[0mlog_file\u001b[0m\u001b[0;34m=\u001b[0m\u001b[0mself\u001b[0m\u001b[0;34m.\u001b[0m\u001b[0mlog_file_\u001b[0m\u001b[0;34m,\u001b[0m\u001b[0;34m\u001b[0m\u001b[0;34m\u001b[0m\u001b[0m\n\u001b[0m\u001b[1;32m    829\u001b[0m                 )\n",
            "\u001b[0;32m/usr/local/lib/python3.7/dist-packages/tpot/gp_deap.py\u001b[0m in \u001b[0;36meaMuPlusLambda\u001b[0;34m(population, toolbox, mu, lambda_, cxpb, mutpb, ngen, pbar, stats, halloffame, verbose, per_generation_function, log_file)\u001b[0m\n\u001b[1;32m    227\u001b[0m \u001b[0;34m\u001b[0m\u001b[0m\n\u001b[0;32m--> 228\u001b[0;31m     \u001b[0mpopulation\u001b[0m\u001b[0;34m[\u001b[0m\u001b[0;34m:\u001b[0m\u001b[0;34m]\u001b[0m \u001b[0;34m=\u001b[0m \u001b[0mtoolbox\u001b[0m\u001b[0;34m.\u001b[0m\u001b[0mevaluate\u001b[0m\u001b[0;34m(\u001b[0m\u001b[0mpopulation\u001b[0m\u001b[0;34m)\u001b[0m\u001b[0;34m\u001b[0m\u001b[0;34m\u001b[0m\u001b[0m\n\u001b[0m\u001b[1;32m    229\u001b[0m \u001b[0;34m\u001b[0m\u001b[0m\n",
            "\u001b[0;32m/usr/local/lib/python3.7/dist-packages/tpot/base.py\u001b[0m in \u001b[0;36m_evaluate_individuals\u001b[0;34m(self, population, features, target, sample_weight, groups)\u001b[0m\n\u001b[1;32m   1531\u001b[0m                     val = partial_wrapped_cross_val_score(\n\u001b[0;32m-> 1532\u001b[0;31m                         \u001b[0msklearn_pipeline\u001b[0m\u001b[0;34m=\u001b[0m\u001b[0msklearn_pipeline\u001b[0m\u001b[0;34m\u001b[0m\u001b[0;34m\u001b[0m\u001b[0m\n\u001b[0m\u001b[1;32m   1533\u001b[0m                     )\n",
            "\u001b[0;32m/usr/local/lib/python3.7/dist-packages/stopit/utils.py\u001b[0m in \u001b[0;36mwrapper\u001b[0;34m(*args, **kwargs)\u001b[0m\n\u001b[1;32m    144\u001b[0m                     \u001b[0;31m# ``result`` may not be assigned below in case of timeout\u001b[0m\u001b[0;34m\u001b[0m\u001b[0;34m\u001b[0m\u001b[0;34m\u001b[0m\u001b[0m\n\u001b[0;32m--> 145\u001b[0;31m                     \u001b[0mresult\u001b[0m \u001b[0;34m=\u001b[0m \u001b[0mfunc\u001b[0m\u001b[0;34m(\u001b[0m\u001b[0;34m*\u001b[0m\u001b[0margs\u001b[0m\u001b[0;34m,\u001b[0m \u001b[0;34m**\u001b[0m\u001b[0mkwargs\u001b[0m\u001b[0;34m)\u001b[0m\u001b[0;34m\u001b[0m\u001b[0;34m\u001b[0m\u001b[0m\n\u001b[0m\u001b[1;32m    146\u001b[0m                 \u001b[0;32mreturn\u001b[0m \u001b[0mresult\u001b[0m\u001b[0;34m\u001b[0m\u001b[0;34m\u001b[0m\u001b[0m\n",
            "\u001b[0;32m/usr/local/lib/python3.7/dist-packages/tpot/gp_deap.py\u001b[0m in \u001b[0;36m_wrapped_cross_val_score\u001b[0;34m(sklearn_pipeline, features, target, cv, scoring_function, sample_weight, groups, use_dask)\u001b[0m\n\u001b[1;32m    419\u001b[0m \u001b[0;34m\u001b[0m\u001b[0m\n\u001b[0;32m--> 420\u001b[0;31m     \u001b[0mcv_iter\u001b[0m \u001b[0;34m=\u001b[0m \u001b[0mlist\u001b[0m\u001b[0;34m(\u001b[0m\u001b[0mcv\u001b[0m\u001b[0;34m.\u001b[0m\u001b[0msplit\u001b[0m\u001b[0;34m(\u001b[0m\u001b[0mfeatures\u001b[0m\u001b[0;34m,\u001b[0m \u001b[0mtarget\u001b[0m\u001b[0;34m,\u001b[0m \u001b[0mgroups\u001b[0m\u001b[0;34m)\u001b[0m\u001b[0;34m)\u001b[0m\u001b[0;34m\u001b[0m\u001b[0;34m\u001b[0m\u001b[0m\n\u001b[0m\u001b[1;32m    421\u001b[0m     \u001b[0mscorer\u001b[0m \u001b[0;34m=\u001b[0m \u001b[0mcheck_scoring\u001b[0m\u001b[0;34m(\u001b[0m\u001b[0msklearn_pipeline\u001b[0m\u001b[0;34m,\u001b[0m \u001b[0mscoring\u001b[0m\u001b[0;34m=\u001b[0m\u001b[0mscoring_function\u001b[0m\u001b[0;34m)\u001b[0m\u001b[0;34m\u001b[0m\u001b[0;34m\u001b[0m\u001b[0m\n",
            "\u001b[0;32m/usr/local/lib/python3.7/dist-packages/sklearn/model_selection/_split.py\u001b[0m in \u001b[0;36msplit\u001b[0;34m(self, X, y, groups)\u001b[0m\n\u001b[1;32m   1146\u001b[0m                          **self.cvargs)\n\u001b[0;32m-> 1147\u001b[0;31m             \u001b[0;32mfor\u001b[0m \u001b[0mtrain_index\u001b[0m\u001b[0;34m,\u001b[0m \u001b[0mtest_index\u001b[0m \u001b[0;32min\u001b[0m \u001b[0mcv\u001b[0m\u001b[0;34m.\u001b[0m\u001b[0msplit\u001b[0m\u001b[0;34m(\u001b[0m\u001b[0mX\u001b[0m\u001b[0;34m,\u001b[0m \u001b[0my\u001b[0m\u001b[0;34m,\u001b[0m \u001b[0mgroups\u001b[0m\u001b[0;34m)\u001b[0m\u001b[0;34m:\u001b[0m\u001b[0;34m\u001b[0m\u001b[0;34m\u001b[0m\u001b[0m\n\u001b[0m\u001b[1;32m   1148\u001b[0m                 \u001b[0;32myield\u001b[0m \u001b[0mtrain_index\u001b[0m\u001b[0;34m,\u001b[0m \u001b[0mtest_index\u001b[0m\u001b[0;34m\u001b[0m\u001b[0;34m\u001b[0m\u001b[0m\n",
            "\u001b[0;32m/usr/local/lib/python3.7/dist-packages/sklearn/model_selection/_split.py\u001b[0m in \u001b[0;36msplit\u001b[0;34m(self, X, y, groups)\u001b[0m\n\u001b[1;32m    334\u001b[0m \u001b[0;34m\u001b[0m\u001b[0m\n\u001b[0;32m--> 335\u001b[0;31m         \u001b[0;32mfor\u001b[0m \u001b[0mtrain\u001b[0m\u001b[0;34m,\u001b[0m \u001b[0mtest\u001b[0m \u001b[0;32min\u001b[0m \u001b[0msuper\u001b[0m\u001b[0;34m(\u001b[0m\u001b[0;34m)\u001b[0m\u001b[0;34m.\u001b[0m\u001b[0msplit\u001b[0m\u001b[0;34m(\u001b[0m\u001b[0mX\u001b[0m\u001b[0;34m,\u001b[0m \u001b[0my\u001b[0m\u001b[0;34m,\u001b[0m \u001b[0mgroups\u001b[0m\u001b[0;34m)\u001b[0m\u001b[0;34m:\u001b[0m\u001b[0;34m\u001b[0m\u001b[0;34m\u001b[0m\u001b[0m\n\u001b[0m\u001b[1;32m    336\u001b[0m             \u001b[0;32myield\u001b[0m \u001b[0mtrain\u001b[0m\u001b[0;34m,\u001b[0m \u001b[0mtest\u001b[0m\u001b[0;34m\u001b[0m\u001b[0;34m\u001b[0m\u001b[0m\n",
            "\u001b[0;32m/usr/local/lib/python3.7/dist-packages/sklearn/model_selection/_split.py\u001b[0m in \u001b[0;36msplit\u001b[0;34m(self, X, y, groups)\u001b[0m\n\u001b[1;32m     79\u001b[0m         \u001b[0mindices\u001b[0m \u001b[0;34m=\u001b[0m \u001b[0mnp\u001b[0m\u001b[0;34m.\u001b[0m\u001b[0marange\u001b[0m\u001b[0;34m(\u001b[0m\u001b[0m_num_samples\u001b[0m\u001b[0;34m(\u001b[0m\u001b[0mX\u001b[0m\u001b[0;34m)\u001b[0m\u001b[0;34m)\u001b[0m\u001b[0;34m\u001b[0m\u001b[0;34m\u001b[0m\u001b[0m\n\u001b[0;32m---> 80\u001b[0;31m         \u001b[0;32mfor\u001b[0m \u001b[0mtest_index\u001b[0m \u001b[0;32min\u001b[0m \u001b[0mself\u001b[0m\u001b[0;34m.\u001b[0m\u001b[0m_iter_test_masks\u001b[0m\u001b[0;34m(\u001b[0m\u001b[0mX\u001b[0m\u001b[0;34m,\u001b[0m \u001b[0my\u001b[0m\u001b[0;34m,\u001b[0m \u001b[0mgroups\u001b[0m\u001b[0;34m)\u001b[0m\u001b[0;34m:\u001b[0m\u001b[0;34m\u001b[0m\u001b[0;34m\u001b[0m\u001b[0m\n\u001b[0m\u001b[1;32m     81\u001b[0m             \u001b[0mtrain_index\u001b[0m \u001b[0;34m=\u001b[0m \u001b[0mindices\u001b[0m\u001b[0;34m[\u001b[0m\u001b[0mnp\u001b[0m\u001b[0;34m.\u001b[0m\u001b[0mlogical_not\u001b[0m\u001b[0;34m(\u001b[0m\u001b[0mtest_index\u001b[0m\u001b[0;34m)\u001b[0m\u001b[0;34m]\u001b[0m\u001b[0;34m\u001b[0m\u001b[0;34m\u001b[0m\u001b[0m\n",
            "\u001b[0;32m/usr/local/lib/python3.7/dist-packages/sklearn/model_selection/_split.py\u001b[0m in \u001b[0;36m_iter_test_masks\u001b[0;34m(self, X, y, groups)\u001b[0m\n\u001b[1;32m    691\u001b[0m     \u001b[0;32mdef\u001b[0m \u001b[0m_iter_test_masks\u001b[0m\u001b[0;34m(\u001b[0m\u001b[0mself\u001b[0m\u001b[0;34m,\u001b[0m \u001b[0mX\u001b[0m\u001b[0;34m,\u001b[0m \u001b[0my\u001b[0m\u001b[0;34m=\u001b[0m\u001b[0;32mNone\u001b[0m\u001b[0;34m,\u001b[0m \u001b[0mgroups\u001b[0m\u001b[0;34m=\u001b[0m\u001b[0;32mNone\u001b[0m\u001b[0;34m)\u001b[0m\u001b[0;34m:\u001b[0m\u001b[0;34m\u001b[0m\u001b[0;34m\u001b[0m\u001b[0m\n\u001b[0;32m--> 692\u001b[0;31m         \u001b[0mtest_folds\u001b[0m \u001b[0;34m=\u001b[0m \u001b[0mself\u001b[0m\u001b[0;34m.\u001b[0m\u001b[0m_make_test_folds\u001b[0m\u001b[0;34m(\u001b[0m\u001b[0mX\u001b[0m\u001b[0;34m,\u001b[0m \u001b[0my\u001b[0m\u001b[0;34m)\u001b[0m\u001b[0;34m\u001b[0m\u001b[0;34m\u001b[0m\u001b[0m\n\u001b[0m\u001b[1;32m    693\u001b[0m         \u001b[0;32mfor\u001b[0m \u001b[0mi\u001b[0m \u001b[0;32min\u001b[0m \u001b[0mrange\u001b[0m\u001b[0;34m(\u001b[0m\u001b[0mself\u001b[0m\u001b[0;34m.\u001b[0m\u001b[0mn_splits\u001b[0m\u001b[0;34m)\u001b[0m\u001b[0;34m:\u001b[0m\u001b[0;34m\u001b[0m\u001b[0;34m\u001b[0m\u001b[0m\n",
            "\u001b[0;32m/usr/local/lib/python3.7/dist-packages/sklearn/model_selection/_split.py\u001b[0m in \u001b[0;36m_make_test_folds\u001b[0;34m(self, X, y)\u001b[0m\n\u001b[1;32m    645\u001b[0m                 'Supported target types are: {}. Got {!r} instead.'.format(\n\u001b[0;32m--> 646\u001b[0;31m                     allowed_target_types, type_of_target_y))\n\u001b[0m\u001b[1;32m    647\u001b[0m \u001b[0;34m\u001b[0m\u001b[0m\n",
            "\u001b[0;31mValueError\u001b[0m: Supported target types are: ('binary', 'multiclass'). Got 'continuous' instead.",
            "\nDuring handling of the above exception, another exception occurred:\n",
            "\u001b[0;31mRuntimeError\u001b[0m                              Traceback (most recent call last)",
            "\u001b[0;32m<ipython-input-64-3a38738fef48>\u001b[0m in \u001b[0;36m<module>\u001b[0;34m()\u001b[0m\n\u001b[1;32m      9\u001b[0m \u001b[0;34m\u001b[0m\u001b[0m\n\u001b[1;32m     10\u001b[0m \u001b[0mmodel\u001b[0m \u001b[0;34m=\u001b[0m \u001b[0mTPOTRegressor\u001b[0m\u001b[0;34m(\u001b[0m\u001b[0mgenerations\u001b[0m\u001b[0;34m=\u001b[0m\u001b[0;36m5\u001b[0m\u001b[0;34m,\u001b[0m \u001b[0mpopulation_size\u001b[0m\u001b[0;34m=\u001b[0m\u001b[0;36m50\u001b[0m\u001b[0;34m,\u001b[0m \u001b[0mverbosity\u001b[0m\u001b[0;34m=\u001b[0m\u001b[0;36m2\u001b[0m\u001b[0;34m,\u001b[0m \u001b[0mscoring\u001b[0m\u001b[0;34m=\u001b[0m\u001b[0;34m'neg_mean_absolute_error'\u001b[0m\u001b[0;34m,\u001b[0m \u001b[0mcv\u001b[0m\u001b[0;34m=\u001b[0m\u001b[0mcv\u001b[0m\u001b[0;34m)\u001b[0m\u001b[0;34m\u001b[0m\u001b[0;34m\u001b[0m\u001b[0m\n\u001b[0;32m---> 11\u001b[0;31m \u001b[0mmodel\u001b[0m\u001b[0;34m.\u001b[0m\u001b[0mfit\u001b[0m\u001b[0;34m(\u001b[0m\u001b[0mX_train\u001b[0m\u001b[0;34m,\u001b[0m \u001b[0my_train\u001b[0m\u001b[0;34m)\u001b[0m\u001b[0;34m\u001b[0m\u001b[0;34m\u001b[0m\u001b[0m\n\u001b[0m\u001b[1;32m     12\u001b[0m \u001b[0mprint\u001b[0m\u001b[0;34m(\u001b[0m\u001b[0mmodel\u001b[0m\u001b[0;34m.\u001b[0m\u001b[0mscore\u001b[0m\u001b[0;34m(\u001b[0m\u001b[0mX_test\u001b[0m\u001b[0;34m,\u001b[0m \u001b[0my_test\u001b[0m\u001b[0;34m)\u001b[0m\u001b[0;34m)\u001b[0m\u001b[0;34m\u001b[0m\u001b[0;34m\u001b[0m\u001b[0m\n\u001b[1;32m     13\u001b[0m \u001b[0;34m\u001b[0m\u001b[0m\n",
            "\u001b[0;32m/usr/local/lib/python3.7/dist-packages/tpot/base.py\u001b[0m in \u001b[0;36mfit\u001b[0;34m(self, features, target, sample_weight, groups)\u001b[0m\n\u001b[1;32m    861\u001b[0m                     \u001b[0;31m# raise the exception if it's our last attempt\u001b[0m\u001b[0;34m\u001b[0m\u001b[0;34m\u001b[0m\u001b[0;34m\u001b[0m\u001b[0m\n\u001b[1;32m    862\u001b[0m                     \u001b[0;32mif\u001b[0m \u001b[0mattempt\u001b[0m \u001b[0;34m==\u001b[0m \u001b[0;34m(\u001b[0m\u001b[0mattempts\u001b[0m \u001b[0;34m-\u001b[0m \u001b[0;36m1\u001b[0m\u001b[0;34m)\u001b[0m\u001b[0;34m:\u001b[0m\u001b[0;34m\u001b[0m\u001b[0;34m\u001b[0m\u001b[0m\n\u001b[0;32m--> 863\u001b[0;31m                         \u001b[0;32mraise\u001b[0m \u001b[0me\u001b[0m\u001b[0;34m\u001b[0m\u001b[0;34m\u001b[0m\u001b[0m\n\u001b[0m\u001b[1;32m    864\u001b[0m             \u001b[0;32mreturn\u001b[0m \u001b[0mself\u001b[0m\u001b[0;34m\u001b[0m\u001b[0;34m\u001b[0m\u001b[0m\n\u001b[1;32m    865\u001b[0m \u001b[0;34m\u001b[0m\u001b[0m\n",
            "\u001b[0;32m/usr/local/lib/python3.7/dist-packages/tpot/base.py\u001b[0m in \u001b[0;36mfit\u001b[0;34m(self, features, target, sample_weight, groups)\u001b[0m\n\u001b[1;32m    852\u001b[0m                         \u001b[0mself\u001b[0m\u001b[0;34m.\u001b[0m\u001b[0m_pbar\u001b[0m\u001b[0;34m.\u001b[0m\u001b[0mclose\u001b[0m\u001b[0;34m(\u001b[0m\u001b[0;34m)\u001b[0m\u001b[0;34m\u001b[0m\u001b[0;34m\u001b[0m\u001b[0m\n\u001b[1;32m    853\u001b[0m \u001b[0;34m\u001b[0m\u001b[0m\n\u001b[0;32m--> 854\u001b[0;31m                     \u001b[0mself\u001b[0m\u001b[0;34m.\u001b[0m\u001b[0m_update_top_pipeline\u001b[0m\u001b[0;34m(\u001b[0m\u001b[0;34m)\u001b[0m\u001b[0;34m\u001b[0m\u001b[0;34m\u001b[0m\u001b[0m\n\u001b[0m\u001b[1;32m    855\u001b[0m                     \u001b[0mself\u001b[0m\u001b[0;34m.\u001b[0m\u001b[0m_summary_of_best_pipeline\u001b[0m\u001b[0;34m(\u001b[0m\u001b[0mfeatures\u001b[0m\u001b[0;34m,\u001b[0m \u001b[0mtarget\u001b[0m\u001b[0;34m)\u001b[0m\u001b[0;34m\u001b[0m\u001b[0;34m\u001b[0m\u001b[0m\n\u001b[1;32m    856\u001b[0m                     \u001b[0;31m# Delete the temporary cache before exiting\u001b[0m\u001b[0;34m\u001b[0m\u001b[0;34m\u001b[0m\u001b[0;34m\u001b[0m\u001b[0m\n",
            "\u001b[0;32m/usr/local/lib/python3.7/dist-packages/tpot/base.py\u001b[0m in \u001b[0;36m_update_top_pipeline\u001b[0;34m(self)\u001b[0m\n\u001b[1;32m    960\u001b[0m             \u001b[0;31m# need raise RuntimeError because no pipeline has been optimized\u001b[0m\u001b[0;34m\u001b[0m\u001b[0;34m\u001b[0m\u001b[0;34m\u001b[0m\u001b[0m\n\u001b[1;32m    961\u001b[0m             raise RuntimeError(\n\u001b[0;32m--> 962\u001b[0;31m                 \u001b[0;34m\"A pipeline has not yet been optimized. Please call fit() first.\"\u001b[0m\u001b[0;34m\u001b[0m\u001b[0;34m\u001b[0m\u001b[0m\n\u001b[0m\u001b[1;32m    963\u001b[0m             )\n\u001b[1;32m    964\u001b[0m \u001b[0;34m\u001b[0m\u001b[0m\n",
            "\u001b[0;31mRuntimeError\u001b[0m: A pipeline has not yet been optimized. Please call fit() first."
          ]
        }
      ]
    }
  ]
}