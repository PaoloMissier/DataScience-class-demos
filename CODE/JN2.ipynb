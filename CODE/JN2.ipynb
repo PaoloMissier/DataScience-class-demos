{
 "cells": [
  {
   "cell_type": "markdown",
   "metadata": {},
   "source": [
    "# In this notebook:\n",
    "\n",
    "## Creating non-linearly separable synthetic datasets\n",
    "\n",
    "## Binary classification methods with 2 features for easy visualisation\n",
    "\n",
    "- linear classification methods: logistic regression, SVM\n",
    "- non-linear methods: polynomial SVM, RBF SVM\n",
    "\n",
    "## Evaluating model performance:\n",
    "- training/test set split,\n",
    "- generalisation errors\n",
    "- metrics: accuracy, F1 measures, average_precision_score, AUC (using classification reports)"
   ]
  },
  {
   "cell_type": "code",
   "execution_count": null,
   "metadata": {},
   "outputs": [],
   "source": [
    "from commonFunctions import *"
   ]
  },
  {
   "cell_type": "markdown",
   "metadata": {},
   "source": [
    "## what happens when the dataset is not _linearly separable_?"
   ]
  },
  {
   "cell_type": "code",
   "execution_count": null,
   "metadata": {},
   "outputs": [],
   "source": [
    "# see https://scikit-learn.org/stable/modules/generated/sklearn.datasets.make_classification.html\n",
    "# and https://scikit-learn.org/stable/datasets/index.html#sample-generators\n",
    "\n",
    "X, CL = makeDataset(kind='circle', balanced = False, unbalance = 0.8)"
   ]
  },
  {
   "cell_type": "markdown",
   "metadata": {},
   "source": [
    "again let us first visualise this"
   ]
  },
  {
   "cell_type": "code",
   "execution_count": null,
   "metadata": {},
   "outputs": [],
   "source": [
    "plt.figure(figsize=(10,6))\n",
    "sns.scatterplot(x=X[:,0], y=X[:,1], hue=CL)"
   ]
  },
  {
   "cell_type": "markdown",
   "metadata": {},
   "source": [
    "can we still learn a meaningful linear model?"
   ]
  },
  {
   "cell_type": "code",
   "execution_count": null,
   "metadata": {},
   "outputs": [],
   "source": [
    "XTrain, XTest, CLTrain, CLTest = train_test_split(X, CL, test_size = 0.33, random_state = 10)"
   ]
  },
  {
   "cell_type": "code",
   "execution_count": null,
   "metadata": {},
   "outputs": [],
   "source": [
    "XTrainScaled, XTestScaled  = scale(XTrain, XTest)"
   ]
  },
  {
   "cell_type": "code",
   "execution_count": null,
   "metadata": {},
   "outputs": [],
   "source": [
    "plotTrainTest(XTrainScaled, CLTrain, XTestScaled, CLTest)"
   ]
  },
  {
   "cell_type": "markdown",
   "metadata": {},
   "source": [
    "## trying logit"
   ]
  },
  {
   "cell_type": "code",
   "execution_count": null,
   "metadata": {},
   "outputs": [],
   "source": [
    "clf, CL_pred_Train, CL_pred_Test = logit(XTrainScaled, CLTrain, XTestScaled, CLTest)\n",
    "\n",
    "# plotLinearFitTrainTest(clf, XTrain, CLTrain, XTest, CLTest)\n",
    "\n",
    "plotContourFitTrainTestAlternate(clf, XTrain, CLTrain, XTest, CLTest)\n",
    "\n",
    "evaluationReport(CLTrain, CL_pred_Train, CLTest, CL_pred_Test)\n",
    "\n",
    "plotROC(clf, XTest, CLTest)"
   ]
  },
  {
   "cell_type": "markdown",
   "metadata": {},
   "source": [
    "## Decision trees"
   ]
  },
  {
   "cell_type": "code",
   "execution_count": null,
   "metadata": {},
   "outputs": [],
   "source": [
    "clf = tree.DecisionTreeClassifier()\n",
    "clf = clf.fit(XTrain, CLTrain)\n",
    "\n",
    "plotContourFitTrainTest(clf, XTrain, CLTrain, XTest, CLTest)\n",
    "\n",
    "evaluationReport(CLTrain, CL_pred_Train, CLTest, CL_pred_Test)\n",
    "\n",
    "plotROC(clf, XTest, CLTest)\n",
    "\n",
    "\n",
    "dot = tree.export_graphviz(clf, out_file=None) \n",
    "graph = graphviz.Source(dot) \n",
    "graph\n"
   ]
  },
  {
   "cell_type": "markdown",
   "metadata": {},
   "source": [
    "## let's try SVM with a polynomial kernel"
   ]
  },
  {
   "cell_type": "code",
   "execution_count": null,
   "metadata": {
    "scrolled": true
   },
   "outputs": [],
   "source": [
    "clf, CL_pred_Train, CL_pred_Test  = SVM(XTrainScaled, CLTrain, XTestScaled, CLTest, kernel='poly')\n",
    "\n",
    "evaluationReport(CLTrain, CL_pred_Train, CLTest, CL_pred_Test)\n",
    "\n",
    "plotContourFitTrainTest(clf, XTrainScaled, CLTrain, XTestScaled, CLTest)\n",
    "\n",
    "plotROC(clf, XTest, CLTest)"
   ]
  },
  {
   "cell_type": "code",
   "execution_count": null,
   "metadata": {},
   "outputs": [],
   "source": []
  },
  {
   "cell_type": "markdown",
   "metadata": {},
   "source": [
    "## and the RBF kernel"
   ]
  },
  {
   "cell_type": "code",
   "execution_count": null,
   "metadata": {},
   "outputs": [],
   "source": [
    "clf, CL_pred_Train, CL_pred_Test  = SVM(XTrainScaled, CLTrain, XTestScaled, CLTest, kernel='rbf')\n",
    "\n",
    "evaluationReport(CLTrain, CL_pred_Train, CLTest, CL_pred_Test)\n",
    "\n",
    "plotContourFitTrainTest(clf, XTrainScaled, CLTrain, XTestScaled, CLTest)\n",
    "\n",
    "plotROC(clf, XTest, CLTest)"
   ]
  },
  {
   "cell_type": "code",
   "execution_count": null,
   "metadata": {},
   "outputs": [],
   "source": []
  },
  {
   "cell_type": "code",
   "execution_count": null,
   "metadata": {},
   "outputs": [],
   "source": []
  }
 ],
 "metadata": {
  "kernelspec": {
   "display_name": "Python 3",
   "language": "python",
   "name": "python3"
  },
  "language_info": {
   "codemirror_mode": {
    "name": "ipython",
    "version": 3
   },
   "file_extension": ".py",
   "mimetype": "text/x-python",
   "name": "python",
   "nbconvert_exporter": "python",
   "pygments_lexer": "ipython3",
   "version": "3.8.3"
  }
 },
 "nbformat": 4,
 "nbformat_minor": 4
}
