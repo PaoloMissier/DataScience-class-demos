{
 "cells": [
  {
   "cell_type": "markdown",
   "metadata": {
    "id": "a8KAuo3Mi5Yr"
   },
   "source": [
    "# In this notebook:\n",
    "\n",
    "## a realistic dataset: predicting academic performance\n",
    "- we use Pandas dataframes to handle the training set\n",
    "\n",
    "## - multi-class problem\n",
    "\n",
    "## - > 2 features\n",
    "\n",
    "## - Overfitting\n",
    "\n",
    "## - Cross-validation\n",
    "\n",
    "## - Ensemble methods to mitigate overfitting in decision trees: Random Forests"
   ]
  },
  {
   "cell_type": "code",
   "execution_count": 2,
   "metadata": {
    "id": "0XD4ZKZAi5Yy",
    "scrolled": true
   },
   "outputs": [],
   "source": [
    "import matplotlib.pyplot as plt\n",
    "\n",
    "import pandas as pd\n",
    "import seaborn as sns\n",
    "\n",
    "from collections import Counter\n",
    "from imblearn.over_sampling import SMOTE\n",
    "from sklearn.ensemble import RandomForestClassifier\n",
    "from sklearn.linear_model import LogisticRegression\n",
    "from sklearn.metrics import classification_report\n",
    "from sklearn.model_selection import (\n",
    "    cross_val_score,\n",
    "    GridSearchCV,\n",
    "    train_test_split,\n",
    ")\n",
    "from sklearn.preprocessing import StandardScaler\n",
    "from sklearn.svm import (\n",
    "    LinearSVC,\n",
    "    SVC,\n",
    ")\n",
    "from sklearn.tree import DecisionTreeClassifier"
   ]
  },
  {
   "cell_type": "code",
   "execution_count": 4,
   "metadata": {
    "id": "MAyFCtzQi5Y0"
   },
   "outputs": [],
   "source": [
    "path = 'https://raw.githubusercontent.com/PaoloMissier/DataScience-class-demos/master/DATA/'\n",
    "df = pd.read_csv(path + 'Academic/academic_performance_clean.csv', header=0)\n",
    "pred_feat = 'Class'\n",
    "seed = 10"
   ]
  },
  {
   "cell_type": "markdown",
   "metadata": {
    "id": "6Eqv1q9Di5Y1"
   },
   "source": [
    "## the dataset has the following attributes:"
   ]
  },
  {
   "cell_type": "code",
   "execution_count": null,
   "metadata": {
    "id": "jdr9OL41i5Y1",
    "outputId": "f103f17c-b868-44a1-c4a4-282cfb6b1d82"
   },
   "outputs": [
    {
     "data": {
      "text/plain": [
       "Index(['Gender', 'Nationality', 'StageID', 'GradeID', 'SectionID', 'Topic',\n",
       "       'Semester', 'Relation', 'RaisedHands', 'VisitedResources',\n",
       "       'AnnouncementsView', 'Discussion', 'ParentAnsweringSurvey',\n",
       "       'ParentSchoolSatisfaction', 'StudentAbsenceDays', 'Class'],\n",
       "      dtype='object')"
      ]
     },
     "execution_count": 13,
     "metadata": {
      "tags": []
     },
     "output_type": "execute_result"
    }
   ],
   "source": [
    "df.columns"
   ]
  },
  {
   "cell_type": "markdown",
   "metadata": {
    "id": "mH1W8D_Qi5Y3"
   },
   "source": [
    " ## Some attributes are numerical, others are categorical, as follows."
   ]
  },
  {
   "cell_type": "code",
   "execution_count": null,
   "metadata": {
    "id": "o5HddTESi5Y3"
   },
   "outputs": [],
   "source": [
    "categorical = ['Gender', 'Nationality', 'StageID', 'GradeID', 'SectionID',\n",
    "               'Topic','Semester', 'Relation', 'ParentAnsweringSurvey',\n",
    "               'ParentSchoolSatisfaction', 'StudentAbsenceDays']\n",
    "\n",
    "numerical = ['RaisedHands', 'VisitedResources',\n",
    "             'AnnouncementsView', 'Discussion']"
   ]
  },
  {
   "cell_type": "markdown",
   "metadata": {
    "id": "GjkfEukUi5Y4"
   },
   "source": [
    "Here are the codes for the categorical attributes:"
   ]
  },
  {
   "cell_type": "code",
   "execution_count": null,
   "metadata": {
    "id": "mWFjyZXLi5Y4",
    "outputId": "17010b63-22a7-4406-e81b-76ecb45dc0b0"
   },
   "outputs": [
    {
     "name": "stdout",
     "output_type": "stream",
     "text": [
      "Gender: ['Male' 'Female']\n",
      "Nationality: ['Kuwait' 'Lebanon' 'Egypt' 'SaudiArabia' 'USA' 'Jordan' 'Venezuela'\n",
      " 'Iran' 'Tunisia' 'Morocco' 'Syria' 'Palestine' 'Iraq' 'Libya']\n",
      "StageID: ['LowerLevel' 'MiddleSchool' 'HighSchool']\n",
      "GradeID: ['G-04' 'G-07' 'G-08' 'G-06' 'G-05' 'G-09' 'G-12' 'G-11' 'G-10' 'G-02']\n",
      "SectionID: ['section_A' 'section_B' 'section_C']\n",
      "Topic: ['IT' 'Math' 'Arabic' 'Science' 'English' 'Quran' 'Spanish' 'French'\n",
      " 'History' 'Biology' 'Chemistry' 'Geology']\n",
      "Semester: ['First' 'Second']\n",
      "Relation: ['Father' 'Mother']\n",
      "ParentAnsweringSurvey: ['Yes' 'No']\n",
      "ParentSchoolSatisfaction: ['Good' 'Bad']\n",
      "StudentAbsenceDays: ['Under-7' 'Above-7']\n"
     ]
    }
   ],
   "source": [
    "for v in categorical:\n",
    "    print(f\"{v}: {df[v].unique()}\")"
   ]
  },
  {
   "cell_type": "markdown",
   "metadata": {
    "id": "ix8UCv6Ki5Y5"
   },
   "source": [
    "## we have one distinguished variable, `Class`, which is the category we will want to predict given all other variables"
   ]
  },
  {
   "cell_type": "markdown",
   "metadata": {
    "id": "dQL0dx5Di5Y5"
   },
   "source": [
    "## for categorical variables, we can plot the counts of each value:"
   ]
  },
  {
   "cell_type": "code",
   "execution_count": null,
   "metadata": {
    "id": "3WUTEUsai5Y6",
    "outputId": "f6e04bdf-ebec-45fb-8122-ceea8e56aab6"
   },
   "outputs": [
    {
     "data": {
      "image/png": "[encoded data removed]",
      "text/plain": [
       "<Figure size 648x216 with 3 Axes>"
      ]
     },
     "metadata": {
      "needs_background": "light",
      "tags": []
     },
     "output_type": "display_data"
    },
    {
     "data": {
      "image/png": "[encoded data removed]",
      "text/plain": [
       "<Figure size 648x216 with 3 Axes>"
      ]
     },
     "metadata": {
      "needs_background": "light",
      "tags": []
     },
     "output_type": "display_data"
    },
    {
     "data": {
      "image/png": "[encoded data removed]",
      "text/plain": [
       "<Figure size 648x216 with 3 Axes>"
      ]
     },
     "metadata": {
      "needs_background": "light",
      "tags": []
     },
     "output_type": "display_data"
    },
    {
     "data": {
      "image/png": "[encoded data removed]",
      "text/plain": [
       "<Figure size 648x216 with 3 Axes>"
      ]
     },
     "metadata": {
      "needs_background": "light",
      "tags": []
     },
     "output_type": "display_data"
    },
    {
     "data": {
      "image/png": "[encoded data removed]",
      "text/plain": [
       "<Figure size 648x216 with 3 Axes>"
      ]
     },
     "metadata": {
      "needs_background": "light",
      "tags": []
     },
     "output_type": "display_data"
    },
    {
     "data": {
      "image/png": "[encoded data removed]",
      "text/plain": [
       "<Figure size 648x216 with 3 Axes>"
      ]
     },
     "metadata": {
      "needs_background": "light",
      "tags": []
     },
     "output_type": "display_data"
    },
    {
     "data": {
      "image/png": "[encoded data removed]",
      "text/plain": [
       "<Figure size 648x216 with 3 Axes>"
      ]
     },
     "metadata": {
      "needs_background": "light",
      "tags": []
     },
     "output_type": "display_data"
    },
    {
     "data": {
      "image/png": "[encoded data removed]",
      "text/plain": [
       "<Figure size 648x216 with 3 Axes>"
      ]
     },
     "metadata": {
      "needs_background": "light",
      "tags": []
     },
     "output_type": "display_data"
    },
    {
     "data": {
      "image/png": "[encoded data removed]",
      "text/plain": [
       "<Figure size 648x216 with 3 Axes>"
      ]
     },
     "metadata": {
      "needs_background": "light",
      "tags": []
     },
     "output_type": "display_data"
    },
    {
     "data": {
      "image/png": "[encoded data removed]",
      "text/plain": [
       "<Figure size 648x216 with 3 Axes>"
      ]
     },
     "metadata": {
      "needs_background": "light",
      "tags": []
     },
     "output_type": "display_data"
    },
    {
     "data": {
      "image/png": "[encoded data removed]",
      "text/plain": [
       "<Figure size 648x216 with 3 Axes>"
      ]
     },
     "metadata": {
      "needs_background": "light",
      "tags": []
     },
     "output_type": "display_data"
    }
   ],
   "source": [
    "for v in categorical:\n",
    "    g = sns.FacetGrid(df, col=\"Class\")\n",
    "    g.map(sns.countplot, v, order=sorted(df[v].unique()))"
   ]
  },
  {
   "cell_type": "markdown",
   "metadata": {
    "id": "p5f0XWCAi5Y6"
   },
   "source": [
    "### Some of these deserve better plots:"
   ]
  },
  {
   "cell_type": "code",
   "execution_count": null,
   "metadata": {
    "id": "bkBXBBYyi5Y7",
    "outputId": "f6910b09-e067-4676-9ffe-cd20f903d300"
   },
   "outputs": [
    {
     "data": {
      "image/png": "[encoded data removed]",
      "text/plain": [
       "<Figure size 432x288 with 1 Axes>"
      ]
     },
     "metadata": {
      "needs_background": "light",
      "tags": []
     },
     "output_type": "display_data"
    }
   ],
   "source": [
    "g = sns.countplot(x=\"Nationality\", data=df)\n",
    "g.set_xticklabels(g.get_xticklabels(), rotation=90)\n",
    "plt.show()"
   ]
  },
  {
   "cell_type": "code",
   "execution_count": null,
   "metadata": {
    "id": "0WGPz697i5Y7",
    "outputId": "a92d3c62-c903-4ec9-cafe-51340ce55e83"
   },
   "outputs": [
    {
     "data": {
      "image/png": "[encoded data removed]",
      "text/plain": [
       "<Figure size 432x288 with 1 Axes>"
      ]
     },
     "metadata": {
      "needs_background": "light",
      "tags": []
     },
     "output_type": "display_data"
    }
   ],
   "source": [
    "g = sns.countplot(x=\"Topic\", data=df)\n",
    "g.set_xticklabels(g.get_xticklabels(), rotation=90)\n",
    "plt.show()"
   ]
  },
  {
   "cell_type": "code",
   "execution_count": null,
   "metadata": {
    "id": "AF63kYuqi5Y8",
    "outputId": "46074eb4-9401-44c1-9a2f-87ca51d91e1e"
   },
   "outputs": [
    {
     "data": {
      "image/png": "[encoded data removed]",
      "text/plain": [
       "<Figure size 432x288 with 1 Axes>"
      ]
     },
     "metadata": {
      "needs_background": "light",
      "tags": []
     },
     "output_type": "display_data"
    }
   ],
   "source": [
    "g = sns.countplot(x=\"GradeID\", data=df, order=sorted(df['GradeID'].unique()))\n",
    "g.set_xticklabels(g.get_xticklabels(), rotation=90)\n",
    "plt.show()"
   ]
  },
  {
   "cell_type": "markdown",
   "metadata": {
    "id": "NIYmBXOgi5Y8"
   },
   "source": [
    "## summary statistics for numerical variables:"
   ]
  },
  {
   "cell_type": "code",
   "execution_count": null,
   "metadata": {
    "id": "3PV7mna5i5Y9",
    "outputId": "f7568770-8595-466c-c0a2-7df2cc6d997c"
   },
   "outputs": [
    {
     "data": {
      "text/html": [
       "<div>\n",
       "<style scoped>\n",
       "    .dataframe tbody tr th:only-of-type {\n",
       "        vertical-align: middle;\n",
       "    }\n",
       "\n",
       "    .dataframe tbody tr th {\n",
       "        vertical-align: top;\n",
       "    }\n",
       "\n",
       "    .dataframe thead th {\n",
       "        text-align: right;\n",
       "    }\n",
       "</style>\n",
       "<table border=\"1\" class=\"dataframe\">\n",
       "  <thead>\n",
       "    <tr style=\"text-align: right;\">\n",
       "      <th></th>\n",
       "      <th>RaisedHands</th>\n",
       "      <th>VisitedResources</th>\n",
       "      <th>AnnouncementsView</th>\n",
       "      <th>Discussion</th>\n",
       "    </tr>\n",
       "  </thead>\n",
       "  <tbody>\n",
       "    <tr>\n",
       "      <th>count</th>\n",
       "      <td>480.000000</td>\n",
       "      <td>480.000000</td>\n",
       "      <td>480.000000</td>\n",
       "      <td>480.000000</td>\n",
       "    </tr>\n",
       "    <tr>\n",
       "      <th>mean</th>\n",
       "      <td>46.775000</td>\n",
       "      <td>54.797917</td>\n",
       "      <td>37.918750</td>\n",
       "      <td>43.283333</td>\n",
       "    </tr>\n",
       "    <tr>\n",
       "      <th>std</th>\n",
       "      <td>30.779223</td>\n",
       "      <td>33.080007</td>\n",
       "      <td>26.611244</td>\n",
       "      <td>27.637735</td>\n",
       "    </tr>\n",
       "    <tr>\n",
       "      <th>min</th>\n",
       "      <td>0.000000</td>\n",
       "      <td>0.000000</td>\n",
       "      <td>0.000000</td>\n",
       "      <td>1.000000</td>\n",
       "    </tr>\n",
       "    <tr>\n",
       "      <th>25%</th>\n",
       "      <td>15.750000</td>\n",
       "      <td>20.000000</td>\n",
       "      <td>14.000000</td>\n",
       "      <td>20.000000</td>\n",
       "    </tr>\n",
       "    <tr>\n",
       "      <th>50%</th>\n",
       "      <td>50.000000</td>\n",
       "      <td>65.000000</td>\n",
       "      <td>33.000000</td>\n",
       "      <td>39.000000</td>\n",
       "    </tr>\n",
       "    <tr>\n",
       "      <th>75%</th>\n",
       "      <td>75.000000</td>\n",
       "      <td>84.000000</td>\n",
       "      <td>58.000000</td>\n",
       "      <td>70.000000</td>\n",
       "    </tr>\n",
       "    <tr>\n",
       "      <th>max</th>\n",
       "      <td>100.000000</td>\n",
       "      <td>99.000000</td>\n",
       "      <td>98.000000</td>\n",
       "      <td>99.000000</td>\n",
       "    </tr>\n",
       "  </tbody>\n",
       "</table>\n",
       "</div>"
      ],
      "text/plain": [
       "       RaisedHands  VisitedResources  AnnouncementsView  Discussion\n",
       "count   480.000000        480.000000         480.000000  480.000000\n",
       "mean     46.775000         54.797917          37.918750   43.283333\n",
       "std      30.779223         33.080007          26.611244   27.637735\n",
       "min       0.000000          0.000000           0.000000    1.000000\n",
       "25%      15.750000         20.000000          14.000000   20.000000\n",
       "50%      50.000000         65.000000          33.000000   39.000000\n",
       "75%      75.000000         84.000000          58.000000   70.000000\n",
       "max     100.000000         99.000000          98.000000   99.000000"
      ]
     },
     "execution_count": 20,
     "metadata": {
      "tags": []
     },
     "output_type": "execute_result"
    }
   ],
   "source": [
    "df[numerical].describe()"
   ]
  },
  {
   "cell_type": "markdown",
   "metadata": {
    "id": "Q46iTALoi5Y9"
   },
   "source": [
    "## for numerical variables, we can plot their distribution across the dataset:"
   ]
  },
  {
   "cell_type": "code",
   "execution_count": null,
   "metadata": {
    "id": "LvW0GV6Li5Y9",
    "outputId": "7e7b2fa8-a85d-4c76-eaa6-ad3137aa276d"
   },
   "outputs": [
    {
     "data": {
      "image/png": "[encoded data removed]",
      "text/plain": [
       "<Figure size 216x216 with 1 Axes>"
      ]
     },
     "metadata": {
      "needs_background": "light",
      "tags": []
     },
     "output_type": "display_data"
    },
    {
     "data": {
      "image/png": "[encoded data removed]",
      "text/plain": [
       "<Figure size 216x216 with 1 Axes>"
      ]
     },
     "metadata": {
      "needs_background": "light",
      "tags": []
     },
     "output_type": "display_data"
    },
    {
     "data": {
      "image/png": "[encoded data removed]",
      "text/plain": [
       "<Figure size 216x216 with 1 Axes>"
      ]
     },
     "metadata": {
      "needs_background": "light",
      "tags": []
     },
     "output_type": "display_data"
    },
    {
     "data": {
      "image/png": "[encoded data removed]",
      "text/plain": [
       "<Figure size 216x216 with 1 Axes>"
      ]
     },
     "metadata": {
      "needs_background": "light",
      "tags": []
     },
     "output_type": "display_data"
    }
   ],
   "source": [
    "for v in numerical:\n",
    "    g = sns.FacetGrid(df)\n",
    "    g.map(sns.histplot, v)"
   ]
  },
  {
   "cell_type": "markdown",
   "metadata": {
    "id": "VxeZDh_ii5Y9"
   },
   "source": [
    "## it is also interesting to look at the distributions of numerical variables across the two Class outcomes, possibly further aggregated, eg by Gender:"
   ]
  },
  {
   "cell_type": "code",
   "execution_count": null,
   "metadata": {
    "id": "4U1WUbpei5Y-",
    "outputId": "bbf0a02a-db50-4a18-a1ec-fba692aace7f"
   },
   "outputs": [
    {
     "data": {
      "image/png": "[encoded data removed]",
      "text/plain": [
       "<Figure size 648x216 with 3 Axes>"
      ]
     },
     "metadata": {
      "needs_background": "light",
      "tags": []
     },
     "output_type": "display_data"
    },
    {
     "data": {
      "image/png": "[encoded data removed]",
      "text/plain": [
       "<Figure size 648x216 with 3 Axes>"
      ]
     },
     "metadata": {
      "needs_background": "light",
      "tags": []
     },
     "output_type": "display_data"
    },
    {
     "data": {
      "image/png": "[encoded data removed]",
      "text/plain": [
       "<Figure size 648x216 with 3 Axes>"
      ]
     },
     "metadata": {
      "needs_background": "light",
      "tags": []
     },
     "output_type": "display_data"
    },
    {
     "data": {
      "image/png": "[encoded data removed]",
      "text/plain": [
       "<Figure size 648x216 with 3 Axes>"
      ]
     },
     "metadata": {
      "needs_background": "light",
      "tags": []
     },
     "output_type": "display_data"
    }
   ],
   "source": [
    "for v in numerical:\n",
    "    g = sns.FacetGrid(df, col=\"Class\")\n",
    "    g.map(sns.barplot, \"Gender\", v, order=[\"Male\", \"Female\"])"
   ]
  },
  {
   "cell_type": "markdown",
   "metadata": {
    "id": "joBu0TjRi5Y-"
   },
   "source": [
    "## we can also easily switch the type of plots to achieve different visualisations:\n",
    "\n",
    "hint: try replacing the `kind` with one of `box`, `boxen`, `violin`, `point`, `bar`, `swarm`"
   ]
  },
  {
   "cell_type": "code",
   "execution_count": null,
   "metadata": {
    "id": "pu0yP3jxi5Y-",
    "outputId": "90248011-cf93-442a-8784-3532933e59cb"
   },
   "outputs": [
    {
     "data": {
      "image/png": "[encoded data removed]",
      "text/plain": [
       "<Figure size 432.125x360 with 1 Axes>"
      ]
     },
     "metadata": {
      "needs_background": "light",
      "tags": []
     },
     "output_type": "display_data"
    },
    {
     "data": {
      "image/png": "[encoded data removed]",
      "text/plain": [
       "<Figure size 432.125x360 with 1 Axes>"
      ]
     },
     "metadata": {
      "needs_background": "light",
      "tags": []
     },
     "output_type": "display_data"
    },
    {
     "data": {
      "image/png": "[encoded data removed]",
      "text/plain": [
       "<Figure size 432.125x360 with 1 Axes>"
      ]
     },
     "metadata": {
      "needs_background": "light",
      "tags": []
     },
     "output_type": "display_data"
    },
    {
     "data": {
      "image/png": "[encoded data removed]",
      "text/plain": [
       "<Figure size 432.125x360 with 1 Axes>"
      ]
     },
     "metadata": {
      "needs_background": "light",
      "tags": []
     },
     "output_type": "display_data"
    }
   ],
   "source": [
    "for v in numerical:\n",
    "    g = sns.catplot(x=\"Class\", y=v, data=df, kind=\"box\", hue='Gender')"
   ]
  },
  {
   "cell_type": "markdown",
   "metadata": {
    "id": "W5AhqKSyi5Y_"
   },
   "source": [
    "# one-hot encoding \n",
    "### classifiers require that categorical variables be encoded in a specific way.\n",
    "\n",
    "we are going to create *dummy variables* for each of these variables. \n",
    "we can either:\n",
    "\n",
    "- assign a numeric value to each categorical value in a set, eg GradeID\n",
    "- generates one new column for each value of a variable, see eg Nationality"
   ]
  },
  {
   "cell_type": "code",
   "execution_count": null,
   "metadata": {
    "id": "OZ-XJhf6i5Y_"
   },
   "outputs": [],
   "source": [
    "col = [\"Nationality\", \"SectionID\", \"Topic\"]\n",
    "\n",
    "for c in col:\n",
    "    dummies = []\n",
    "    dummies.append(pd.get_dummies(df[c]))\n",
    "    df_dummies = pd.concat(dummies, axis=1)\n",
    "    df = pd.concat((df, df_dummies), axis=1)\n",
    "    df = df.drop([c], axis=1)"
   ]
  },
  {
   "cell_type": "markdown",
   "metadata": {
    "id": "wf1o86IMi5Y_"
   },
   "source": [
    "\n",
    "\n",
    "- Gender: 0 Female, 1 Male\n",
    "- StageID: 0 Lower, 1 Middle, 2 High\n",
    "- GradeID: 0 - 11\n",
    "- Semester: 0 First, 1 Second\n",
    "- Relation: 0 Mother, 1 Father\n",
    "- ParentAnswering: 0 No, 1 Yes\n",
    "- ParentSchool: 0 Bad, 1 Good\n",
    "- Class: 0 L, 1 M, 2 H\n",
    "- Topic: \n",
    "- StudentAbsence: 0 Under-7, 1 Above-7\n",
    "- Nationality:  "
   ]
  },
  {
   "cell_type": "markdown",
   "metadata": {
    "id": "SUnUY2W4i5Y_"
   },
   "source": [
    "here is the result:"
   ]
  },
  {
   "cell_type": "code",
   "execution_count": null,
   "metadata": {
    "id": "LSynM969i5ZA",
    "outputId": "6c68be02-4e59-4e27-ec46-19d4ed78a03a"
   },
   "outputs": [
    {
     "data": {
      "text/plain": [
       "(480, 42)"
      ]
     },
     "execution_count": 26,
     "metadata": {
      "tags": []
     },
     "output_type": "execute_result"
    }
   ],
   "source": [
    "## reload the dataset ready for processing\n",
    "path = 'https://raw.githubusercontent.com/Trotts/csc2034-ds-demos/master/DATA/'\n",
    "df = pd.read_csv(path + 'Academic/academic_onehot.csv', header=0)\n",
    "df.shape"
   ]
  },
  {
   "cell_type": "code",
   "execution_count": null,
   "metadata": {
    "id": "4zc-nkzhi5ZA",
    "outputId": "6a949154-26bd-4e60-a8f5-dc9de5fc8ce6"
   },
   "outputs": [
    {
     "data": {
      "text/plain": [
       "Index(['Gender', 'StageID', 'GradeID', 'Semester', 'Relation', 'RaisedHands',\n",
       "       'VisitedResources', 'AnnouncementsView', 'Discussion',\n",
       "       'ParentAnsweringSurvey', 'ParentSchoolSatisfaction',\n",
       "       'StudentAbsenceDays', 'Class', 'Egypt', 'Iran', 'Iraq', 'Jordan',\n",
       "       'Kuwait', 'Lebanon', 'Libya', 'Morocco', 'Palestine', 'SaudiArabia',\n",
       "       'Syria', 'Tunisia', 'USA', 'Venezuela', 'section_A', 'section_B',\n",
       "       'section_C', 'Arabic', 'Biology', 'Chemistry', 'English', 'French',\n",
       "       'Geology', 'History', 'IT', 'Math', 'Quran', 'Science', 'Spanish'],\n",
       "      dtype='object')"
      ]
     },
     "execution_count": 27,
     "metadata": {
      "tags": []
     },
     "output_type": "execute_result"
    }
   ],
   "source": [
    "df.columns"
   ]
  },
  {
   "cell_type": "code",
   "execution_count": null,
   "metadata": {
    "id": "sSeGc7Bmi5ZA",
    "outputId": "b28dfbda-207f-4973-8cf9-cecd9c54ce9f"
   },
   "outputs": [
    {
     "data": {
      "text/html": [
       "<div>\n",
       "<style scoped>\n",
       "    .dataframe tbody tr th:only-of-type {\n",
       "        vertical-align: middle;\n",
       "    }\n",
       "\n",
       "    .dataframe tbody tr th {\n",
       "        vertical-align: top;\n",
       "    }\n",
       "\n",
       "    .dataframe thead th {\n",
       "        text-align: right;\n",
       "    }\n",
       "</style>\n",
       "<table border=\"1\" class=\"dataframe\">\n",
       "  <thead>\n",
       "    <tr style=\"text-align: right;\">\n",
       "      <th></th>\n",
       "      <th>Gender</th>\n",
       "      <th>StageID</th>\n",
       "      <th>GradeID</th>\n",
       "      <th>Semester</th>\n",
       "      <th>Relation</th>\n",
       "      <th>RaisedHands</th>\n",
       "      <th>VisitedResources</th>\n",
       "      <th>AnnouncementsView</th>\n",
       "      <th>Discussion</th>\n",
       "      <th>ParentAnsweringSurvey</th>\n",
       "      <th>...</th>\n",
       "      <th>Chemistry</th>\n",
       "      <th>English</th>\n",
       "      <th>French</th>\n",
       "      <th>Geology</th>\n",
       "      <th>History</th>\n",
       "      <th>IT</th>\n",
       "      <th>Math</th>\n",
       "      <th>Quran</th>\n",
       "      <th>Science</th>\n",
       "      <th>Spanish</th>\n",
       "    </tr>\n",
       "  </thead>\n",
       "  <tbody>\n",
       "    <tr>\n",
       "      <th>0</th>\n",
       "      <td>1</td>\n",
       "      <td>0</td>\n",
       "      <td>3</td>\n",
       "      <td>0</td>\n",
       "      <td>1</td>\n",
       "      <td>15</td>\n",
       "      <td>16</td>\n",
       "      <td>2</td>\n",
       "      <td>20</td>\n",
       "      <td>1</td>\n",
       "      <td>...</td>\n",
       "      <td>0</td>\n",
       "      <td>0</td>\n",
       "      <td>0</td>\n",
       "      <td>0</td>\n",
       "      <td>0</td>\n",
       "      <td>1</td>\n",
       "      <td>0</td>\n",
       "      <td>0</td>\n",
       "      <td>0</td>\n",
       "      <td>0</td>\n",
       "    </tr>\n",
       "    <tr>\n",
       "      <th>1</th>\n",
       "      <td>1</td>\n",
       "      <td>0</td>\n",
       "      <td>3</td>\n",
       "      <td>0</td>\n",
       "      <td>1</td>\n",
       "      <td>20</td>\n",
       "      <td>20</td>\n",
       "      <td>3</td>\n",
       "      <td>25</td>\n",
       "      <td>1</td>\n",
       "      <td>...</td>\n",
       "      <td>0</td>\n",
       "      <td>0</td>\n",
       "      <td>0</td>\n",
       "      <td>0</td>\n",
       "      <td>0</td>\n",
       "      <td>1</td>\n",
       "      <td>0</td>\n",
       "      <td>0</td>\n",
       "      <td>0</td>\n",
       "      <td>0</td>\n",
       "    </tr>\n",
       "    <tr>\n",
       "      <th>2</th>\n",
       "      <td>1</td>\n",
       "      <td>0</td>\n",
       "      <td>3</td>\n",
       "      <td>0</td>\n",
       "      <td>1</td>\n",
       "      <td>10</td>\n",
       "      <td>7</td>\n",
       "      <td>0</td>\n",
       "      <td>30</td>\n",
       "      <td>0</td>\n",
       "      <td>...</td>\n",
       "      <td>0</td>\n",
       "      <td>0</td>\n",
       "      <td>0</td>\n",
       "      <td>0</td>\n",
       "      <td>0</td>\n",
       "      <td>1</td>\n",
       "      <td>0</td>\n",
       "      <td>0</td>\n",
       "      <td>0</td>\n",
       "      <td>0</td>\n",
       "    </tr>\n",
       "    <tr>\n",
       "      <th>3</th>\n",
       "      <td>1</td>\n",
       "      <td>0</td>\n",
       "      <td>3</td>\n",
       "      <td>0</td>\n",
       "      <td>1</td>\n",
       "      <td>30</td>\n",
       "      <td>25</td>\n",
       "      <td>5</td>\n",
       "      <td>35</td>\n",
       "      <td>0</td>\n",
       "      <td>...</td>\n",
       "      <td>0</td>\n",
       "      <td>0</td>\n",
       "      <td>0</td>\n",
       "      <td>0</td>\n",
       "      <td>0</td>\n",
       "      <td>1</td>\n",
       "      <td>0</td>\n",
       "      <td>0</td>\n",
       "      <td>0</td>\n",
       "      <td>0</td>\n",
       "    </tr>\n",
       "    <tr>\n",
       "      <th>4</th>\n",
       "      <td>1</td>\n",
       "      <td>0</td>\n",
       "      <td>3</td>\n",
       "      <td>0</td>\n",
       "      <td>1</td>\n",
       "      <td>40</td>\n",
       "      <td>50</td>\n",
       "      <td>12</td>\n",
       "      <td>50</td>\n",
       "      <td>0</td>\n",
       "      <td>...</td>\n",
       "      <td>0</td>\n",
       "      <td>0</td>\n",
       "      <td>0</td>\n",
       "      <td>0</td>\n",
       "      <td>0</td>\n",
       "      <td>1</td>\n",
       "      <td>0</td>\n",
       "      <td>0</td>\n",
       "      <td>0</td>\n",
       "      <td>0</td>\n",
       "    </tr>\n",
       "  </tbody>\n",
       "</table>\n",
       "<p>5 rows × 42 columns</p>\n",
       "</div>"
      ],
      "text/plain": [
       "   Gender  StageID  GradeID  Semester  Relation  RaisedHands  \\\n",
       "0       1        0        3         0         1           15   \n",
       "1       1        0        3         0         1           20   \n",
       "2       1        0        3         0         1           10   \n",
       "3       1        0        3         0         1           30   \n",
       "4       1        0        3         0         1           40   \n",
       "\n",
       "   VisitedResources  AnnouncementsView  Discussion  ParentAnsweringSurvey  \\\n",
       "0                16                  2          20                      1   \n",
       "1                20                  3          25                      1   \n",
       "2                 7                  0          30                      0   \n",
       "3                25                  5          35                      0   \n",
       "4                50                 12          50                      0   \n",
       "\n",
       "   ...  Chemistry  English  French  Geology  History  IT  Math  Quran  \\\n",
       "0  ...          0        0       0        0        0   1     0      0   \n",
       "1  ...          0        0       0        0        0   1     0      0   \n",
       "2  ...          0        0       0        0        0   1     0      0   \n",
       "3  ...          0        0       0        0        0   1     0      0   \n",
       "4  ...          0        0       0        0        0   1     0      0   \n",
       "\n",
       "   Science  Spanish  \n",
       "0        0        0  \n",
       "1        0        0  \n",
       "2        0        0  \n",
       "3        0        0  \n",
       "4        0        0  \n",
       "\n",
       "[5 rows x 42 columns]"
      ]
     },
     "execution_count": 28,
     "metadata": {
      "tags": []
     },
     "output_type": "execute_result"
    }
   ],
   "source": [
    "df.head()"
   ]
  },
  {
   "cell_type": "markdown",
   "metadata": {
    "id": "cyob_yH-i5ZB"
   },
   "source": [
    "### values for each of the variables:"
   ]
  },
  {
   "cell_type": "code",
   "execution_count": null,
   "metadata": {
    "id": "YaPI7Szgi5ZB",
    "outputId": "2a4ab67b-08d1-4b72-ca62-b025e44a2f52"
   },
   "outputs": [
    {
     "name": "stdout",
     "output_type": "stream",
     "text": [
      "Gender: [1 0]\n",
      "StageID: [0 1 2]\n",
      "GradeID: [ 3  6  7  5  4  8 11 10  9  1]\n",
      "Semester: [0 1]\n",
      "Relation: [1 0]\n",
      "ParentAnsweringSurvey: [1 0]\n",
      "ParentSchoolSatisfaction: [1 0]\n",
      "StudentAbsenceDays: [0 1]\n",
      "Class: [1 0 2]\n",
      "Egypt: [0 1]\n",
      "Iran: [0 1]\n",
      "Iraq: [0 1]\n",
      "Jordan: [0 1]\n",
      "Kuwait: [1 0]\n",
      "Lebanon: [0 1]\n",
      "Libya: [0 1]\n",
      "Morocco: [0 1]\n",
      "Palestine: [0 1]\n",
      "SaudiArabia: [0 1]\n",
      "Syria: [0 1]\n",
      "Tunisia: [0 1]\n",
      "USA: [0 1]\n",
      "Venezuela: [0 1]\n",
      "section_A: [1 0]\n",
      "section_B: [0 1]\n",
      "section_C: [0 1]\n",
      "Arabic: [0 1]\n",
      "Biology: [0 1]\n",
      "Chemistry: [0 1]\n",
      "English: [0 1]\n",
      "French: [0 1]\n",
      "Geology: [0 1]\n",
      "History: [0 1]\n",
      "IT: [1 0]\n",
      "Math: [0 1]\n",
      "Quran: [0 1]\n",
      "Science: [0 1]\n",
      "Spanish: [0 1]\n"
     ]
    }
   ],
   "source": [
    "newCategorical = [col for col in df.columns if col not in numerical]\n",
    "\n",
    "for v in newCategorical:\n",
    "    print(f\"{v}: {df[v].unique()}\")"
   ]
  },
  {
   "cell_type": "markdown",
   "metadata": {
    "id": "pv4bIy4Qi5ZC"
   },
   "source": [
    "## we now check that the class values are not *unbalanced*:"
   ]
  },
  {
   "cell_type": "code",
   "execution_count": null,
   "metadata": {
    "id": "vf4xJ9mMi5ZC",
    "outputId": "5f604dfc-5f4f-48e0-c3be-e074ea32d11b"
   },
   "outputs": [
    {
     "data": {
      "text/plain": [
       "1    211\n",
       "2    142\n",
       "0    127\n",
       "Name: Class, dtype: int64"
      ]
     },
     "execution_count": 30,
     "metadata": {
      "tags": []
     },
     "output_type": "execute_result"
    }
   ],
   "source": [
    "df[pred_feat].value_counts()\n",
    "\n",
    "#  0 L, 1 M, 2 H"
   ]
  },
  {
   "cell_type": "code",
   "execution_count": null,
   "metadata": {
    "id": "Vxhn3qtii5ZD",
    "outputId": "62d3993a-6c1a-405e-d7cc-86f05cf15552"
   },
   "outputs": [
    {
     "data": {
      "image/png": "[encoded data removed]",
      "text/plain": [
       "<Figure size 432x288 with 1 Axes>"
      ]
     },
     "metadata": {
      "needs_background": "light",
      "tags": []
     },
     "output_type": "display_data"
    }
   ],
   "source": [
    "g = sns.countplot(x=\"Class\", data=df)"
   ]
  },
  {
   "cell_type": "markdown",
   "metadata": {
    "id": "VQPTR4Gvi5ZD"
   },
   "source": [
    "Class = 1 (Medium) twice the size of each of the other two... let us rebalance.\n",
    "\n",
    "since we have few data points, we amplify the minority classes using SMOTE"
   ]
  },
  {
   "cell_type": "code",
   "execution_count": null,
   "metadata": {
    "id": "mdcPCc2Oi5ZD"
   },
   "outputs": [],
   "source": [
    "# Unbalanced train set\n",
    "X = df.drop([pred_feat], axis=1).values\n",
    "CL = df[pred_feat].values"
   ]
  },
  {
   "cell_type": "code",
   "execution_count": null,
   "metadata": {
    "id": "srYhsDfNi5ZD",
    "outputId": "9d8ae90c-abb6-4a40-c7e4-084dc9ffcd59"
   },
   "outputs": [
    {
     "name": "stdout",
     "output_type": "stream",
     "text": [
      "Unbalanced Counts:\n",
      "Counter({1: 211, 2: 142, 0: 127})\n",
      "\n",
      "Balanced Counts:\n",
      "Counter({1: 211, 0: 211, 2: 211})\n"
     ]
    }
   ],
   "source": [
    "# rebalance through upsampling\n",
    "X_reb, CL_reb = SMOTE().fit_resample(X, CL)\n",
    "\n",
    "print(f\"Unbalanced Counts:\\n{Counter(CL)}\\n\")\n",
    "print(f\"Balanced Counts:\\n{Counter(CL_reb)}\")"
   ]
  },
  {
   "cell_type": "code",
   "execution_count": null,
   "metadata": {
    "id": "kfdjeuLai5ZE"
   },
   "outputs": [],
   "source": [
    "# Split data in train / tet\n",
    "XTrain, XTest, CLTrain, CLTest = train_test_split(X_reb, CL_reb, test_size = 0.33, random_state=seed)"
   ]
  },
  {
   "cell_type": "code",
   "execution_count": null,
   "metadata": {
    "id": "jFC0tyIZi5ZE",
    "outputId": "35be66f4-e764-4057-ab49-76137568e6e6"
   },
   "outputs": [
    {
     "name": "stdout",
     "output_type": "stream",
     "text": [
      "Training Set Counts:\n",
      "Counter({2: 152, 1: 143, 0: 129})\n",
      "\n",
      "Test Set Counts:\n",
      "Counter({0: 82, 1: 68, 2: 59})\n"
     ]
    }
   ],
   "source": [
    "print(f\"Training Set Counts:\\n{Counter(CLTrain)}\\n\")\n",
    "print(f\"Test Set Counts:\\n{Counter(CLTest)}\")"
   ]
  },
  {
   "cell_type": "code",
   "execution_count": null,
   "metadata": {
    "id": "lfQB4Jy7i5ZE"
   },
   "outputs": [],
   "source": [
    "## scaling\n",
    "scaler = StandardScaler()\n",
    "XTrain, XTest  = (scaler.fit_transform(d)\n",
    "                  for d in (XTrain, XTest))"
   ]
  },
  {
   "cell_type": "markdown",
   "metadata": {
    "id": "lSEmwEJFi5ZE"
   },
   "source": [
    "### first attempt at modelling: linear model using _logistic regression_"
   ]
  },
  {
   "cell_type": "code",
   "execution_count": null,
   "metadata": {
    "id": "ykvVfb5vi5ZF",
    "outputId": "4bf92143-f5be-4de3-f382-b895839070f5",
    "scrolled": true
   },
   "outputs": [
    {
     "name": "stdout",
     "output_type": "stream",
     "text": [
      "Train Set Predictions Report:\n",
      "\n",
      "              precision    recall  f1-score   support\n",
      "\n",
      "           0       0.92      0.92      0.92       129\n",
      "           1       0.81      0.79      0.80       143\n",
      "           2       0.87      0.89      0.88       152\n",
      "\n",
      "    accuracy                           0.87       424\n",
      "   macro avg       0.87      0.87      0.87       424\n",
      "weighted avg       0.87      0.87      0.87       424\n",
      "\n",
      "Test Set Predictions Report:\n",
      "\n",
      "              precision    recall  f1-score   support\n",
      "\n",
      "           0       0.97      0.79      0.87        82\n",
      "           1       0.66      0.71      0.68        68\n",
      "           2       0.72      0.85      0.78        59\n",
      "\n",
      "    accuracy                           0.78       209\n",
      "   macro avg       0.78      0.78      0.78       209\n",
      "weighted avg       0.80      0.78      0.78       209\n",
      "\n",
      "Cross-validation scores: 0.76 (± 0.01)\n"
     ]
    }
   ],
   "source": [
    "clf = LogisticRegression(penalty='l2', C=1, solver='lbfgs',multi_class='auto', max_iter=10000)\n",
    "clf.fit(XTrain, CLTrain)\n",
    "\n",
    "# predictions on training set\n",
    "CL_pred_Train = clf.predict(XTrain)\n",
    "\n",
    "# predictions on test set\n",
    "CL_pred_Test = clf.predict(XTest)\n",
    "\n",
    "print('Train Set Predictions Report:\\n')\n",
    "print(classification_report(CLTrain, CL_pred_Train))\n",
    "print('Test Set Predictions Report:\\n')\n",
    "print(classification_report(CLTest, CL_pred_Test))\n",
    "\n",
    "scores = cross_val_score(clf, XTrain, CLTrain, cv=3)\n",
    "print(f\"Cross-validation scores: {scores.mean():.2f} (± {scores.std() * 2:.2f})\")"
   ]
  },
  {
   "cell_type": "markdown",
   "metadata": {
    "id": "3gFjDk4mi5ZF"
   },
   "source": [
    "## Hyper-parameter tuning"
   ]
  },
  {
   "cell_type": "markdown",
   "metadata": {
    "id": "_EZ4LFYci5ZF"
   },
   "source": [
    "\n",
    "note that logit has one hyper-parameter: `C`\n",
    "\n",
    "can we improve on performance by tuning this _hyper-parameter_?\n",
    "\n",
    "how do we select the /optimal/ values for these hyper-parameters?\n",
    "\n",
    "*note*: the code below is from the scikit doc on [Parameter estimation using grid search with cross-validation](https://scikit-learn.org/stable/auto_examples/model_selection/plot_grid_search_digits.html)"
   ]
  },
  {
   "cell_type": "code",
   "execution_count": null,
   "metadata": {
    "id": "pikLkbvTi5ZF",
    "outputId": "f274cee1-2d3c-4cb0-ec58-4b5ffa43938d"
   },
   "outputs": [
    {
     "name": "stdout",
     "output_type": "stream",
     "text": [
      "Best parameters set found on development set:\n",
      "\n",
      "{'C': 1}\n",
      "\n",
      "Grid scores on development set:\n",
      "\n",
      "0.776 (± 0.073) for {'C': 1}\n",
      "0.776 (± 0.070) for {'C': 10}\n",
      "0.774 (± 0.068) for {'C': 100}\n"
     ]
    }
   ],
   "source": [
    "# Set the parameters by cross-validation\n",
    "tuned_parameters = [{'C': [1, 10, 100]}]\n",
    "\n",
    "clf = GridSearchCV(LogisticRegression(solver='lbfgs', multi_class='auto', max_iter=10000), tuned_parameters, cv=5)\n",
    "clf.fit(XTrain, CLTrain)\n",
    "\n",
    "print(\"Best parameters set found on development set:\\n\")\n",
    "print(clf.best_params_)\n",
    "print(\"\\nGrid scores on development set:\\n\")\n",
    "\n",
    "means = clf.cv_results_['mean_test_score']\n",
    "stds = clf.cv_results_['std_test_score']\n",
    "for mean, std, params in zip(means, stds, clf.cv_results_['params']):\n",
    "    print(f\"{mean:.3f} (± {std * 2:.03f}) for {params}\")"
   ]
  },
  {
   "cell_type": "markdown",
   "metadata": {
    "id": "0zLRIOp5i5ZG"
   },
   "source": [
    "### Second attempt: SVM linear  (Support Vector Machines)"
   ]
  },
  {
   "cell_type": "code",
   "execution_count": null,
   "metadata": {
    "id": "945-X0wdi5ZG",
    "outputId": "9ed5adb0-1a89-404a-cbbe-b70947664d86"
   },
   "outputs": [
    {
     "name": "stdout",
     "output_type": "stream",
     "text": [
      "Train Set Predictions Report:\n",
      "\n",
      "              precision    recall  f1-score   support\n",
      "\n",
      "           0       0.89      0.94      0.91       129\n",
      "           1       0.83      0.75      0.79       143\n",
      "           2       0.86      0.90      0.88       152\n",
      "\n",
      "    accuracy                           0.86       424\n",
      "   macro avg       0.86      0.86      0.86       424\n",
      "weighted avg       0.86      0.86      0.86       424\n",
      "\n",
      "Test Set Predictions Report:\n",
      "\n",
      "              precision    recall  f1-score   support\n",
      "\n",
      "           0       0.94      0.82      0.88        82\n",
      "           1       0.60      0.59      0.59        68\n",
      "           2       0.65      0.78      0.71        59\n",
      "\n",
      "    accuracy                           0.73       209\n",
      "   macro avg       0.73      0.73      0.73       209\n",
      "weighted avg       0.75      0.73      0.74       209\n",
      "\n",
      "Cross-validation scores: 0.74 (± 0.08)\n"
     ]
    }
   ],
   "source": [
    "svm = LinearSVC(C=1, max_iter=10000)\n",
    "clf = svm.fit(XTrain, CLTrain)\n",
    "\n",
    "# predictions on training set\n",
    "CL_pred_Train = clf.predict(XTrain)\n",
    "\n",
    "# predictions on test set\n",
    "CL_pred_Test = clf.predict(XTest)\n",
    "    \n",
    "print('Train Set Predictions Report:\\n')\n",
    "print(classification_report(CLTrain, CL_pred_Train))\n",
    "print('Test Set Predictions Report:\\n')\n",
    "print(classification_report(CLTest, CL_pred_Test))\n",
    "\n",
    "scores = cross_val_score(clf, XTrain, CLTrain, cv=3)\n",
    "print(f\"Cross-validation scores: {scores.mean():.2f} (± {scores.std() * 2:.2f})\")"
   ]
  },
  {
   "cell_type": "markdown",
   "metadata": {
    "id": "5Jx1gdSIi5ZG"
   },
   "source": [
    "### Let's try a non-linear classifier: SVM with polynomial kernel"
   ]
  },
  {
   "cell_type": "code",
   "execution_count": null,
   "metadata": {
    "id": "5o1wpMzYi5ZG",
    "outputId": "655137ee-73d2-4a3f-84e4-6b1f1927efa3"
   },
   "outputs": [
    {
     "name": "stdout",
     "output_type": "stream",
     "text": [
      "Train Set Predictions Report:\n",
      "\n",
      "              precision    recall  f1-score   support\n",
      "\n",
      "           0       0.90      0.96      0.93       129\n",
      "           1       0.90      0.69      0.78       143\n",
      "           2       0.82      0.95      0.88       152\n",
      "\n",
      "    accuracy                           0.87       424\n",
      "   macro avg       0.87      0.87      0.87       424\n",
      "weighted avg       0.87      0.87      0.86       424\n",
      "\n",
      "Test Set Predictions Report:\n",
      "\n",
      "              precision    recall  f1-score   support\n",
      "\n",
      "           0       0.91      0.82      0.86        82\n",
      "           1       0.59      0.44      0.50        68\n",
      "           2       0.57      0.81      0.67        59\n",
      "\n",
      "    accuracy                           0.69       209\n",
      "   macro avg       0.69      0.69      0.68       209\n",
      "weighted avg       0.71      0.69      0.69       209\n",
      "\n",
      "Cross-validation scores: 0.72 (± 0.06)\n"
     ]
    }
   ],
   "source": [
    "clf = SVC(kernel='poly')\n",
    "clf.fit(XTrain, CLTrain)\n",
    "\n",
    "CL_pred_Train = clf.predict(XTrain)\n",
    "CL_pred_Test = clf.predict(XTest)\n",
    "\n",
    "print('Train Set Predictions Report:\\n')\n",
    "print(classification_report(CLTrain, CL_pred_Train))\n",
    "print('Test Set Predictions Report:\\n')\n",
    "print(classification_report(CLTest, CL_pred_Test))\n",
    "\n",
    "scores = cross_val_score(clf, XTrain, CLTrain, cv=3)\n",
    "print(f\"Cross-validation scores: {scores.mean():.2f} (± {scores.std() * 2:.2f})\")"
   ]
  },
  {
   "cell_type": "markdown",
   "metadata": {
    "id": "-CJxiCG8i5ZG"
   },
   "source": [
    "## SVM with RBF kernel"
   ]
  },
  {
   "cell_type": "code",
   "execution_count": null,
   "metadata": {
    "id": "bwRjEsJji5ZH",
    "outputId": "110f0a03-1851-48c0-a601-192ca9ec1050"
   },
   "outputs": [
    {
     "name": "stdout",
     "output_type": "stream",
     "text": [
      "Train Set Predictions Report:\n",
      "\n",
      "              precision    recall  f1-score   support\n",
      "\n",
      "           0       0.93      0.97      0.95       129\n",
      "           1       0.88      0.83      0.86       143\n",
      "           2       0.90      0.92      0.91       152\n",
      "\n",
      "    accuracy                           0.91       424\n",
      "   macro avg       0.91      0.91      0.91       424\n",
      "weighted avg       0.90      0.91      0.90       424\n",
      "\n",
      "Test Set Predictions Report:\n",
      "\n",
      "              precision    recall  f1-score   support\n",
      "\n",
      "           0       0.94      0.78      0.85        82\n",
      "           1       0.58      0.66      0.62        68\n",
      "           2       0.68      0.73      0.70        59\n",
      "\n",
      "    accuracy                           0.73       209\n",
      "   macro avg       0.73      0.72      0.72       209\n",
      "weighted avg       0.75      0.73      0.73       209\n",
      "\n",
      "Cross-validation scores: 0.73 (± 0.06)\n"
     ]
    }
   ],
   "source": [
    "clf = SVC(kernel='rbf')\n",
    "clf.fit(XTrain, CLTrain)\n",
    "\n",
    "CL_pred_Train = clf.predict(XTrain)\n",
    "CL_pred_Test = clf.predict(XTest)\n",
    "\n",
    "print('Train Set Predictions Report:\\n')\n",
    "print(classification_report(CLTrain, CL_pred_Train))\n",
    "print('Test Set Predictions Report:\\n')\n",
    "print(classification_report(CLTest, CL_pred_Test))\n",
    "\n",
    "scores = cross_val_score(clf, XTrain, CLTrain, cv=3)\n",
    "print(f\"Cross-validation scores: {scores.mean():.2f} (± {scores.std() * 2:.2f})\")"
   ]
  },
  {
   "cell_type": "markdown",
   "metadata": {
    "id": "KF30PAzZi5ZH"
   },
   "source": [
    "## Tune the hyper-parameters by cross-validation"
   ]
  },
  {
   "cell_type": "code",
   "execution_count": null,
   "metadata": {
    "id": "pIG38bdIi5ZH",
    "outputId": "8728c09e-2426-4b56-e32d-ad97109444dc"
   },
   "outputs": [
    {
     "name": "stdout",
     "output_type": "stream",
     "text": [
      "Best parameters set found on development set:\n",
      "\n",
      "{'C': 10, 'kernel': 'linear'}\n",
      "\n",
      "Grid scores on development set:\n",
      "\n",
      "0.731 (± 0.118) for {'C': 1, 'kernel': 'rbf'}\n",
      "0.755 (± 0.071) for {'C': 10, 'kernel': 'rbf'}\n",
      "0.743 (± 0.028) for {'C': 100, 'kernel': 'rbf'}\n",
      "0.719 (± 0.049) for {'C': 1, 'kernel': 'poly'}\n",
      "0.755 (± 0.036) for {'C': 10, 'kernel': 'poly'}\n",
      "0.750 (± 0.017) for {'C': 100, 'kernel': 'poly'}\n",
      "0.764 (± 0.032) for {'C': 1, 'kernel': 'linear'}\n",
      "0.764 (± 0.052) for {'C': 10, 'kernel': 'linear'}\n",
      "0.764 (± 0.060) for {'C': 100, 'kernel': 'linear'}\n"
     ]
    }
   ],
   "source": [
    "tuned_parameters = [{'kernel': ['rbf'], 'C': [1, 10, 100]},\n",
    "                    {'kernel': ['poly'], 'C': [1, 10, 100]},\n",
    "                    {'kernel': ['linear'], 'C': [1, 10, 100]}]\n",
    "\n",
    "clf = GridSearchCV(SVC(), tuned_parameters, cv=5)\n",
    "clf.fit(XTrain, CLTrain)\n",
    "\n",
    "print(\"Best parameters set found on development set:\\n\")\n",
    "print(clf.best_params_)\n",
    "print(\"\\nGrid scores on development set:\\n\")\n",
    "\n",
    "means = clf.cv_results_['mean_test_score']\n",
    "stds = clf.cv_results_['std_test_score']\n",
    "for mean, std, params in zip(means, stds, clf.cv_results_['params']):\n",
    "    print(f\"{mean:.3f} (± {std * 2:.03f}) for {params}\")"
   ]
  },
  {
   "cell_type": "markdown",
   "metadata": {
    "id": "DyA6eCybi5ZH"
   },
   "source": [
    "## decision trees are attractive but may overfit the data"
   ]
  },
  {
   "cell_type": "code",
   "execution_count": null,
   "metadata": {
    "id": "7PBu8sx4i5ZI",
    "outputId": "2e1089d8-3485-4447-c631-6ff02081e806"
   },
   "outputs": [
    {
     "name": "stdout",
     "output_type": "stream",
     "text": [
      "Train Set Predictions Report\n",
      "\n",
      "              precision    recall  f1-score   support\n",
      "\n",
      "           0       1.00      0.99      1.00       129\n",
      "           1       0.99      0.97      0.98       143\n",
      "           2       0.97      0.99      0.98       152\n",
      "\n",
      "    accuracy                           0.98       424\n",
      "   macro avg       0.98      0.98      0.98       424\n",
      "weighted avg       0.98      0.98      0.98       424\n",
      "\n",
      "Test Set Predictions Report\n",
      "\n",
      "              precision    recall  f1-score   support\n",
      "\n",
      "           0       0.95      0.84      0.89        82\n",
      "           1       0.69      0.65      0.67        68\n",
      "           2       0.69      0.85      0.76        59\n",
      "\n",
      "    accuracy                           0.78       209\n",
      "   macro avg       0.78      0.78      0.77       209\n",
      "weighted avg       0.79      0.78      0.78       209\n",
      "\n",
      "Cross-validation scores: 0.72 (± 0.06)\n"
     ]
    }
   ],
   "source": [
    "clf = DecisionTreeClassifier(max_depth=10)\n",
    "clf = clf.fit(XTrain, CLTrain)\n",
    "\n",
    "# predictions\n",
    "CL_pred_Train = clf.predict(XTrain)\n",
    "CL_pred_Test = clf.predict(XTest)\n",
    "\n",
    "print('Train Set Predictions Report\\n')\n",
    "print(classification_report(CLTrain, CL_pred_Train))\n",
    "print('Test Set Predictions Report\\n')\n",
    "print(classification_report(CLTest, CL_pred_Test))\n",
    "\n",
    "scores = cross_val_score(clf, XTrain, CLTrain, cv=3)\n",
    "print(f\"Cross-validation scores: {scores.mean():.2f} (± {scores.std() * 2:.2f})\")"
   ]
  },
  {
   "cell_type": "markdown",
   "metadata": {
    "id": "zobwGDxxi5ZI"
   },
   "source": [
    "## to mitigate overfitting, we introduce _ensemble models_: Random Forest"
   ]
  },
  {
   "cell_type": "code",
   "execution_count": null,
   "metadata": {
    "id": "5dAqBa0Ei5ZI",
    "outputId": "77293518-3203-4df7-eaeb-3eb42e2dad4f"
   },
   "outputs": [
    {
     "name": "stdout",
     "output_type": "stream",
     "text": [
      "Train Set Predictions Report:\n",
      "\n",
      "              precision    recall  f1-score   support\n",
      "\n",
      "           0       1.00      1.00      1.00       129\n",
      "           1       0.99      1.00      1.00       143\n",
      "           2       1.00      0.99      1.00       152\n",
      "\n",
      "    accuracy                           1.00       424\n",
      "   macro avg       1.00      1.00      1.00       424\n",
      "weighted avg       1.00      1.00      1.00       424\n",
      "\n",
      "Test Set Predictions Report:\n",
      "\n",
      "              precision    recall  f1-score   support\n",
      "\n",
      "           0       0.91      0.90      0.91        82\n",
      "           1       0.73      0.69      0.71        68\n",
      "           2       0.77      0.83      0.80        59\n",
      "\n",
      "    accuracy                           0.81       209\n",
      "   macro avg       0.80      0.81      0.81       209\n",
      "weighted avg       0.81      0.81      0.81       209\n",
      "\n",
      "Cross-validation scores: 0.80 (± 0.01)\n"
     ]
    }
   ],
   "source": [
    "clf = RandomForestClassifier(n_estimators=10, max_depth=50, random_state=seed)\n",
    "clf.fit(XTrain, CLTrain)\n",
    "\n",
    "# predictions\n",
    "CL_pred_Train = clf.predict(XTrain)\n",
    "CL_pred_Test = clf.predict(XTest)\n",
    "\n",
    "print('Train Set Predictions Report:\\n')\n",
    "print(classification_report(CLTrain, CL_pred_Train))\n",
    "print('Test Set Predictions Report:\\n')\n",
    "print(classification_report(CLTest, CL_pred_Test))\n",
    "\n",
    "scores = cross_val_score(clf, XTrain, CLTrain, cv=3)\n",
    "print(f\"Cross-validation scores: {scores.mean():.2f} (± {scores.std() * 2:.2f})\")"
   ]
  },
  {
   "cell_type": "markdown",
   "metadata": {
    "id": "eCYOTepvi5ZI"
   },
   "source": [
    "## let us tune the hyper-parameters `max_depth` and  `n_estimators`\n",
    "\n",
    "ref: https://scikit-learn.org/stable/auto_examples/model_selection/plot_grid_search_digits.html\n",
    "\n",
    "A search consists of:\n",
    "\n",
    "- an estimator (regressor or classifier such as sklearn.svm.SVC());\n",
    "- a parameter space;\n",
    "- a method for searching or sampling candidates;\n",
    "- a cross-validation scheme; and\n",
    "- a score function.\n",
    "\n",
    "By default, parameter search uses the score function of the estimator to evaluate a parameter setting."
   ]
  },
  {
   "cell_type": "code",
   "execution_count": null,
   "metadata": {
    "id": "zr30A0dWi5ZJ",
    "outputId": "fe99ac3b-89bc-4de4-c6bc-cdf6835558d2"
   },
   "outputs": [
    {
     "name": "stdout",
     "output_type": "stream",
     "text": [
      "Best parameters set found on development set:\n",
      "\n",
      "{'max_depth': 50, 'n_estimators': 200}\n",
      "\n",
      "Grid scores on development set:\n",
      "\n",
      "0.764 (± 0.082) for {'max_depth': 5, 'n_estimators': 10}\n",
      "\n",
      "0.800 (± 0.064) for {'max_depth': 5, 'n_estimators': 50}\n",
      "\n",
      "0.802 (± 0.082) for {'max_depth': 5, 'n_estimators': 100}\n",
      "\n",
      "0.809 (± 0.069) for {'max_depth': 5, 'n_estimators': 200}\n",
      "\n",
      "0.778 (± 0.092) for {'max_depth': 10, 'n_estimators': 10}\n",
      "\n",
      "0.812 (± 0.085) for {'max_depth': 10, 'n_estimators': 50}\n",
      "\n",
      "0.830 (± 0.050) for {'max_depth': 10, 'n_estimators': 100}\n",
      "\n",
      "0.819 (± 0.076) for {'max_depth': 10, 'n_estimators': 200}\n",
      "\n",
      "0.797 (± 0.064) for {'max_depth': 20, 'n_estimators': 10}\n",
      "\n",
      "0.816 (± 0.076) for {'max_depth': 20, 'n_estimators': 50}\n",
      "\n",
      "0.823 (± 0.042) for {'max_depth': 20, 'n_estimators': 100}\n",
      "\n",
      "0.819 (± 0.074) for {'max_depth': 20, 'n_estimators': 200}\n",
      "\n",
      "0.785 (± 0.073) for {'max_depth': 50, 'n_estimators': 10}\n",
      "\n",
      "0.821 (± 0.077) for {'max_depth': 50, 'n_estimators': 50}\n",
      "\n",
      "0.821 (± 0.061) for {'max_depth': 50, 'n_estimators': 100}\n",
      "\n",
      "0.840 (± 0.047) for {'max_depth': 50, 'n_estimators': 200}\n",
      "\n"
     ]
    }
   ],
   "source": [
    "# scores = ['precision', 'recall']\n",
    "\n",
    "tuned_parameters = [{'n_estimators': [10,50,100,200],\n",
    "                     'max_depth': [5,10,20,50]}]\n",
    "clf = GridSearchCV(RandomForestClassifier(), tuned_parameters, cv=5)\n",
    "clf.fit(XTrain, CLTrain)\n",
    "\n",
    "print(\"Best parameters set found on development set:\\n\")\n",
    "print(clf.best_params_)\n",
    "print(\"\\nGrid scores on development set:\\n\")\n",
    "\n",
    "means = clf.cv_results_['mean_test_score']\n",
    "stds = clf.cv_results_['std_test_score']\n",
    "\n",
    "for mean, std, params in zip(means, stds, clf.cv_results_['params']):\n",
    "    print(f\"{mean:.3f} (± {std * 2:.03f}) for {params}\\n\")"
   ]
  },
  {
   "cell_type": "code",
   "execution_count": null,
   "metadata": {
    "id": "tynCQD1Wi5ZJ"
   },
   "outputs": [],
   "source": []
  }
 ],
 "metadata": {
  "colab": {
   "name": "Copy of Academic-data-science-example.ipynb",
   "provenance": [
    {
     "file_id": "https://github.com/Trotts/csc2034-ds-demos/blob/master/CODE/Academic-data-science-example.ipynb",
     "timestamp": 1618138080895
    }
   ]
  },
  "kernelspec": {
   "display_name": "Python 3",
   "language": "python",
   "name": "python3"
  },
  "language_info": {
   "codemirror_mode": {
    "name": "ipython",
    "version": 3
   },
   "file_extension": ".py",
   "mimetype": "text/x-python",
   "name": "python",
   "nbconvert_exporter": "python",
   "pygments_lexer": "ipython3",
   "version": "3.8.3"
  }
 },
 "nbformat": 4,
 "nbformat_minor": 4
}
